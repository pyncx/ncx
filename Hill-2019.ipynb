{
 "cells": [
  {
   "cell_type": "markdown",
   "metadata": {},
   "source": [
    "## Regulation of ion transport from within ion transit pathways\n",
    "-------------"
   ]
  },
  {
   "cell_type": "code",
   "execution_count": 16,
   "metadata": {},
   "outputs": [],
   "source": [
    "import numpy as np\n",
    "import matplotlib.pyplot as plt\n",
    "import seaborn as sns\n",
    "from scipy import linalg\n",
    "from scipy.integrate import odeint\n",
    "sns.set()\n",
    "%matplotlib inline"
   ]
  },
  {
   "cell_type": "markdown",
   "metadata": {},
   "source": [
    "### Detail"
   ]
  },
  {
   "cell_type": "markdown",
   "metadata": {},
   "source": [
    "<img src = \"img/hill2019.png\" height=500px width=500px> <img>"
   ]
  },
  {
   "cell_type": "code",
   "execution_count": 17,
   "metadata": {},
   "outputs": [],
   "source": [
    "Ni = 100*1e-3\n",
    "Ci = 2*1e-6\n",
    "F_3n = Ni**2.5/(Ni**2.5 + 17**2.5)\n",
    "K_con1 = 0.1*1e-6\n",
    "K_con2 = 20\n",
    "K_coff1 = 0.05*1e-6\n",
    "K_coff2 = 0.3\n",
    "K_12 = 0.2\n",
    "K_43 = 0.1\n",
    "K_inact1 = 0.2\n",
    "K_inact2 = 25*K_inact1"
   ]
  },
  {
   "cell_type": "code",
   "execution_count": 18,
   "metadata": {},
   "outputs": [],
   "source": [
    "k = {\"Ni\": Ni,\"Ci\":Ci, \"F_3n\": F_3n,\\\n",
    "     \"K_con1\": K_con1,\"K_con2\":K_con2,\\\n",
    "     \"K_coff1\":K_coff1,\"K_coff2\": K_coff2,\\\n",
    "     \"K_12\": K_12,\"K_43\":K_43,\"K_inact1\": K_inact1,\\\n",
    "     \"K_inact2\": K_inact2}"
   ]
  },
  {
   "cell_type": "code",
   "execution_count": 19,
   "metadata": {},
   "outputs": [
    {
     "data": {
      "text/plain": [
       "{'Ni': 0.1,\n",
       " 'Ci': 2e-06,\n",
       " 'F_3n': 2.6538510499533897e-06,\n",
       " 'K_con1': 1e-07,\n",
       " 'K_con2': 20,\n",
       " 'K_coff1': 5e-08,\n",
       " 'K_coff2': 0.3,\n",
       " 'K_12': 0.2,\n",
       " 'K_43': 0.1,\n",
       " 'K_inact1': 0.2,\n",
       " 'K_inact2': 5.0}"
      ]
     },
     "execution_count": 19,
     "metadata": {},
     "output_type": "execute_result"
    }
   ],
   "source": [
    "k"
   ]
  },
  {
   "cell_type": "markdown",
   "metadata": {},
   "source": [
    "#### Differential Equations"
   ]
  },
  {
   "cell_type": "markdown",
   "metadata": {},
   "source": [
    "$F_{3n} = \\frac{Ni^{2.5}}{Ni^{2.5} + 17^{2.5}}$\n",
    "\n",
    "$\\frac{dF_{1}}{dt} = F_4C_iK_{con1} - F_{1}K_{coff1} + F_{2}F_{3n} K_{inact1} - F_1K_{12}$\n",
    "\n",
    "$\\frac{dF_{2}}{dt} = F_3 C_i K_{con2} - F_{2} K_{con2} + F_{1} K_{12} - F_{2} F_{3n} K_{inact1}$\n",
    "\n",
    "$\\frac{dF_{3}}{dt} = F_2 K_{coff2} + F_{4} K_{43} - F_{3}C_{i}K_{con2} - F_{3}F_{3n}K_{inact2}$\n",
    "\n",
    "$F_{4} = 1 - F_{1} -F_{2} - F_{3}$"
   ]
  },
  {
   "cell_type": "markdown",
   "metadata": {},
   "source": [
    "#### Reduced Equation"
   ]
  },
  {
   "cell_type": "markdown",
   "metadata": {},
   "source": [
    "$\\frac{dF_{1}}{dt} = C_iK_{con1} - F_{1}(K_{coff1}+C_iK_{con1} + K_{12}) + F_{2}(F_{3n} K_{inact1}- C_iK_{con1}) - F_{3}C_iK_{con1}$\n"
   ]
  },
  {
   "cell_type": "markdown",
   "metadata": {},
   "source": [
    "$\\frac{dF_{2}}{dt} = F_{1} K_{12} - F_{2} (K_{con2}+F_{3n} K_{inact1})+ F_3 C_i K_{con2}$"
   ]
  },
  {
   "cell_type": "markdown",
   "metadata": {},
   "source": [
    "$\\frac{dF_{3}}{dt} =  K_{43} - F_{1}K_{43} + F_2 (K_{coff2} - K_{43}) - F_{3}(C_{i}K_{con2} + F_{3n}K_{inact2} + K_{43}) $"
   ]
  },
  {
   "cell_type": "markdown",
   "metadata": {},
   "source": [
    "### Calculation"
   ]
  },
  {
   "cell_type": "code",
   "execution_count": 22,
   "metadata": {},
   "outputs": [],
   "source": [
    "# function that returns dy/dt\n",
    "def model(y,t,k):\n",
    "    \n",
    "    '''y[0] = F1,\n",
    "       y[1] = F2,\n",
    "       y[2] = F3,\n",
    "    '''\n",
    "    \n",
    "    dy1dt = k[\"Ci\"]*k[\"K_con1\"] \\\n",
    "           - y[0]*(k[\"K_coff1\"]+k[\"Ci\"]*k[\"K_con1\"]+k[\"K_12\"])\\\n",
    "           + y[1]*(k[\"F_3n\"]*k[\"K_inact1\"]-k[\"Ci\"]*k[\"K_con1\"])\\\n",
    "           - y[2]*k[\"Ci\"]*k[\"K_con1\"]\n",
    "    \n",
    "    dy2dt = y[0]*k[\"K_12\"] \\\n",
    "           -y[1]*(k[\"K_con2\"]+k[\"F_3n\"]*k[\"K_inact1\"])\\\n",
    "           +y[2]*k[\"Ci\"]*k[\"K_con2\"]\n",
    "    \n",
    "    dy3dt = k[\"K_43\"]\\\n",
    "           -y[0]*k[\"K_43\"]\\\n",
    "           +y[1]*(k[\"K_coff2\"]-k[\"K_43\"])\\\n",
    "           -y[2]*(k[\"Ci\"]*k[\"K_con2\"]+k[\"F_3n\"]*k[\"K_inact2\"]+k[\"K_43\"])\n",
    "    \n",
    "    dydt = [dy1dt,dy2dt,dy3dt]\n",
    "    return dydt"
   ]
  },
  {
   "cell_type": "code",
   "execution_count": 27,
   "metadata": {},
   "outputs": [],
   "source": [
    "\n",
    "N = 1\n",
    "T = 50\n",
    "y0 = [1,0,0]\n",
    "t = np.linspace(0,T)\n",
    "\n",
    "'''solve ODEs'''\n",
    "y = odeint(model,y0,t,args=(k,))\n",
    "\n",
    "y1 = np.empty_like(t)\n",
    "y2 = np.empty_like(t)\n",
    "y3 = np.empty_like(t)\n",
    "y4 = np.empty_like(t)\n",
    "\n",
    "for i in range(len(t)):\n",
    "    y1[i] = y[i][0]\n",
    "    y2[i] = y[i][1]\n",
    "    y3[i] = y[i][2]\n",
    "    y4[i] = 1 - y1[i] - y2[i] - y3[i] "
   ]
  },
  {
   "cell_type": "code",
   "execution_count": 28,
   "metadata": {},
   "outputs": [
    {
     "data": {
      "text/plain": [
       "(4.5400406904993314e-05,\n",
       " 2.431000206718904e-06,\n",
       " 0.986210907074657,\n",
       " 0.013741261518231296)"
      ]
     },
     "execution_count": 28,
     "metadata": {},
     "output_type": "execute_result"
    }
   ],
   "source": [
    "y1[T-1],y2[T-1],y3[T-1],y4[T-1]"
   ]
  },
  {
   "cell_type": "code",
   "execution_count": 29,
   "metadata": {},
   "outputs": [
    {
     "data": {
      "image/png": "[encoded data removed]",
      "text/plain": [
       "<Figure size 1080x360 with 1 Axes>"
      ]
     },
     "metadata": {
      "needs_background": "light"
     },
     "output_type": "display_data"
    }
   ],
   "source": [
    "# plot results\n",
    "plt.figure(figsize = [15,5])\n",
    "plt.plot(t,y1,linewidth=2,label='F1')\n",
    "plt.plot(t,y2,linewidth=2,label='F2')\n",
    "plt.plot(t,y3,linewidth=2,label='F3')\n",
    "plt.plot(t,y4,linewidth=2,label='F4')\n",
    "plt.xlabel('time')\n",
    "plt.ylabel('y(t)')\n",
    "plt.legend()\n",
    "plt.show()"
   ]
  },
  {
   "cell_type": "code",
   "execution_count": null,
   "metadata": {},
   "outputs": [],
   "source": []
  },
  {
   "cell_type": "code",
   "execution_count": null,
   "metadata": {},
   "outputs": [],
   "source": []
  },
  {
   "cell_type": "code",
   "execution_count": null,
   "metadata": {},
   "outputs": [],
   "source": []
  },
  {
   "cell_type": "code",
   "execution_count": null,
   "metadata": {},
   "outputs": [],
   "source": []
  },
  {
   "cell_type": "markdown",
   "metadata": {},
   "source": [
    "### Simulation"
   ]
  },
  {
   "cell_type": "code",
   "execution_count": 112,
   "metadata": {},
   "outputs": [
    {
     "data": {
      "image/png": "[encoded data removed]",
      "text/plain": [
       "<Figure size 1440x576 with 1 Axes>"
      ]
     },
     "metadata": {
      "needs_background": "light"
     },
     "output_type": "display_data"
    }
   ],
   "source": [
    "plt.figure(figsize = [20,8])\n",
    "KEM = [40e-3,-10e-3,40e-3,-10e-3,40e-3,-10e-3,40e-3]\n",
    "y0 = [0,0,1]\n",
    "for kem,T in zip(KEM,[0,50,100,150,200,250,300,350]):\n",
    "        K_em = kem\n",
    "        K_mn = 28e-3\n",
    "        K_con = 10e3\n",
    "        K_coff = 28e3\n",
    "        K_c = 5e3\n",
    "        K_n = 10e3\n",
    "        C_0 = 50e-3\n",
    "        C_i = 0.01e-3\n",
    "        N_0 = 0.1e-3\n",
    "        N_i = 140e-3\n",
    "        F_ni = N_i/(N_i+K_mn)\n",
    "        F_no = N_0/(N_0+K_mn)\n",
    "        k1 = K_c; k2 = K_c; k3 = K_coff;\n",
    "        k4 = C_0*K_con*(1-F_no)**3; \n",
    "        k5 = (K_n*F_no**3)/K_em; \n",
    "        k6 = (K_n*F_ni**3)*K_em;\n",
    "        k7 = C_i*K_con*(1-F_ni)**3;\n",
    "        k8 = K_coff\n",
    "        \n",
    "        k = {'k1':k1,'k2':k2,'k3':k3,\\\n",
    "             'k4':k4,'k5':k5,'k6':k6,\\\n",
    "             'k7':k7,'k8':k8}\n",
    "\n",
    "        '''solve ODEs'''\n",
    "        t = np.linspace(T,T+50)\n",
    "        y = odeint(model,y0,t,args=(k,))\n",
    "        y1 = np.empty_like(t)\n",
    "        y2 = np.empty_like(t)\n",
    "        y3 = np.empty_like(t)\n",
    "        y4 = np.empty_like(t)\n",
    "        R_net = np.empty_like(t)\n",
    "        for i in range(len(t)):\n",
    "            y1[i] = y[i][0]\n",
    "            y2[i] = y[i][1]\n",
    "            y3[i] = y[i][2]\n",
    "            y4[i] = 1 - y1[i] - y2[i] - y3[i] \n",
    "        R_net = abs(y1*k1 - y2*k2)\n",
    "        \n",
    "        y0 = [y1[50-1],y2[50-1],y3[50-1]]\n",
    "        \n",
    "        '''Plot the simulation'''\n",
    "        plt.plot(t,R_net,linewidth=2,label='R_net'+str(kem))\n",
    "        #plt.plot(t,y1,linewidth=2,label='y1'+str(kem))\n",
    "        #plt.plot(t,y2,linewidth=2,label='y2'+str(kem))\n",
    "        plt.xlabel('time')\n",
    "        plt.ylabel('y(t)')\n",
    "        plt.legend()\n",
    "plt.show()"
   ]
  },
  {
   "cell_type": "code",
   "execution_count": null,
   "metadata": {},
   "outputs": [],
   "source": []
  },
  {
   "cell_type": "code",
   "execution_count": null,
   "metadata": {},
   "outputs": [],
   "source": []
  },
  {
   "cell_type": "code",
   "execution_count": null,
   "metadata": {},
   "outputs": [],
   "source": []
  },
  {
   "cell_type": "code",
   "execution_count": null,
   "metadata": {},
   "outputs": [],
   "source": []
  },
  {
   "cell_type": "markdown",
   "metadata": {},
   "source": [
    "#### Analytical Solution"
   ]
  },
  {
   "cell_type": "code",
   "execution_count": 8,
   "metadata": {},
   "outputs": [],
   "source": [
    "x1 = k2*k4*(k7+k6)+k5*k7*(k2+k3)\n",
    "x2 = k1*k7*(k4+k5)+k4*k6*(k1+k8)\n",
    "x3 = k1*k3*(k7+k6)+k8*k6*(k2+k3)\n",
    "x4 = k2*k8*(k4+k5)+k3*k5*(k1+k8)"
   ]
  },
  {
   "cell_type": "code",
   "execution_count": 9,
   "metadata": {},
   "outputs": [
    {
     "data": {
      "text/plain": [
       "(1.940105102593134, 4.374711827520394, 1361129.6283434846, 4260313.021776008)"
      ]
     },
     "execution_count": 9,
     "metadata": {},
     "output_type": "execute_result"
    }
   ],
   "source": [
    "x1,x2,x3,x4"
   ]
  },
  {
   "cell_type": "code",
   "execution_count": 10,
   "metadata": {},
   "outputs": [
    {
     "data": {
      "text/plain": [
       "(3.4512544980741915e-07,\n",
       " 7.782178322364029e-07,\n",
       " 0.24213145700218566,\n",
       " 0.7578674196545323)"
      ]
     },
     "execution_count": 10,
     "metadata": {},
     "output_type": "execute_result"
    }
   ],
   "source": [
    "s = x1+x2+x3+x4\n",
    "E1 = x1/s\n",
    "E2 = x2/s\n",
    "E3 = x3/s\n",
    "E4 = x4/s\n",
    "E1,E2,E3,E4"
   ]
  }
 ],
 "metadata": {
  "kernelspec": {
   "display_name": "Python 3",
   "language": "python",
   "name": "python3"
  },
  "language_info": {
   "codemirror_mode": {
    "name": "ipython",
    "version": 3
   },
   "file_extension": ".py",
   "mimetype": "text/x-python",
   "name": "python",
   "nbconvert_exporter": "python",
   "pygments_lexer": "ipython3",
   "version": "3.7.1"
  }
 },
 "nbformat": 4,
 "nbformat_minor": 2
}
