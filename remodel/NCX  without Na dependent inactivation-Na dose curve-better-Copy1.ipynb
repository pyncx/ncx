{
 "cells": [
  {
   "cell_type": "code",
   "execution_count": 1,
   "metadata": {},
   "outputs": [],
   "source": [
    "import numpy as np\n",
    "import pandas as pd\n",
    "import matplotlib.pyplot as plt\n",
    "import seaborn as sns\n",
    "from scipy import linalg\n",
    "from scipy.integrate import odeint\n",
    "sns.set()\n",
    "%matplotlib inline"
   ]
  },
  {
   "cell_type": "code",
   "execution_count": 2,
   "metadata": {},
   "outputs": [],
   "source": [
    "t = 0;dt = 0.005; s4 = 0;\n",
    "chi=2; ci=chi; s5=0.7; factive=0.2; s7=0.01; s6=1-factive-s7-s4;\n",
    "tnow =[]\n",
    "ixnow = []\n",
    "#S1=[]\n",
    "\n",
    "for i in range(1,150000+1):\n",
    "    t = t + dt\n",
    "    ni = 0\n",
    "    if t>30 and t<80:\n",
    "        ni = 100\n",
    "        ci = 2\n",
    "    if t>130 and t<180:\n",
    "        ni = 75\n",
    "        ci = 2\n",
    "    if t>230 and t<280:\n",
    "        ni = 50\n",
    "        ci = 2\n",
    "    if t>330 and t<380:\n",
    "        ni = 30\n",
    "        ci = 2\n",
    "    if t>430 and t<480:\n",
    "        ni = 15\n",
    "        ci = 2\n",
    "    if t>530 and t<580:\n",
    "        ni = 10\n",
    "        ci = 2\n",
    "    if t>630 and t<680:\n",
    "        ni = 5\n",
    "        ci = 2\n",
    "    if t>730 and t<780:\n",
    "        ni = 0\n",
    "        ci = 2\n",
    "    #if t>280 and t<310:\n",
    "        #ni = 100\n",
    "        #ci = 0\n",
    "    #if t>310 and t<340:\n",
    "        #ni = 0\n",
    "        #ci = 0\n",
    "    #if t>340 and t<370:\n",
    "        #ni = 100\n",
    "        #ci = 0\n",
    "    #if t>370 and t<400:\n",
    "        #ni = 0\n",
    "        #ci = 0\n",
    "    #if t>400 and t<430:\n",
    "        #ni = 100\n",
    "        #ci = chi\n",
    "    #if t>430 and t<460:\n",
    "        #ni = 0\n",
    "        #ci = 0\n",
    "        \n",
    "        \n",
    "    f3n=ni**2.5/(ni**2.5+17**2.5)\n",
    "    kcon1=0.1\n",
    "    kcoff1=0.05\n",
    "    kcon2=20 \n",
    "    kcoff2=0.3\n",
    "    #kinact=0.2 \n",
    "    #kinact=1\n",
    "    kinact=0 \n",
    "    #kinact=1\n",
    "    #kinact=0.2\n",
    "    \n",
    "    s5=s5+ (s6*ci*kcon1-s5*kcoff1+factive*f3n*kinact-s5*0.3) *dt\n",
    "    factive=factive+(s7*ci*kcon2-factive*kcoff2+s5*0.15-factive*f3n*kinact)*dt\n",
    "    s7=s7+(factive*kcoff2+s6*0.1-s7*ci*kcon2-s7*f3n*kinact*25)*dt\n",
    "    s6=1-s5-factive-s7\n",
    "    \n",
    "    #S1.append(s1)\n",
    "    \n",
    "    incx=factive*f3n\n",
    "    tnow.append(t)\n",
    "    ixnow.append(incx)\n"
   ]
  },
  {
   "cell_type": "code",
   "execution_count": 3,
   "metadata": {},
   "outputs": [],
   "source": [
    "# Data frame for the data extract\n",
    "df = pd.DataFrame()\n",
    "df['time'] = tnow\n",
    "df['current'] = ixnow"
   ]
  },
  {
   "cell_type": "code",
   "execution_count": 4,
   "metadata": {},
   "outputs": [
    {
     "data": {
      "text/plain": [
       "(150000, 2)"
      ]
     },
     "execution_count": 4,
     "metadata": {},
     "output_type": "execute_result"
    }
   ],
   "source": [
    "df.shape"
   ]
  },
  {
   "cell_type": "code",
   "execution_count": 5,
   "metadata": {},
   "outputs": [
    {
     "data": {
      "text/html": [
       "<div>\n",
       "<style scoped>\n",
       "    .dataframe tbody tr th:only-of-type {\n",
       "        vertical-align: middle;\n",
       "    }\n",
       "\n",
       "    .dataframe tbody tr th {\n",
       "        vertical-align: top;\n",
       "    }\n",
       "\n",
       "    .dataframe thead th {\n",
       "        text-align: right;\n",
       "    }\n",
       "</style>\n",
       "<table border=\"1\" class=\"dataframe\">\n",
       "  <thead>\n",
       "    <tr style=\"text-align: right;\">\n",
       "      <th></th>\n",
       "      <th>time</th>\n",
       "      <th>current</th>\n",
       "    </tr>\n",
       "  </thead>\n",
       "  <tbody>\n",
       "    <tr>\n",
       "      <th>0</th>\n",
       "      <td>0.005</td>\n",
       "      <td>0.0</td>\n",
       "    </tr>\n",
       "    <tr>\n",
       "      <th>1</th>\n",
       "      <td>0.010</td>\n",
       "      <td>0.0</td>\n",
       "    </tr>\n",
       "    <tr>\n",
       "      <th>2</th>\n",
       "      <td>0.015</td>\n",
       "      <td>0.0</td>\n",
       "    </tr>\n",
       "    <tr>\n",
       "      <th>3</th>\n",
       "      <td>0.020</td>\n",
       "      <td>0.0</td>\n",
       "    </tr>\n",
       "    <tr>\n",
       "      <th>4</th>\n",
       "      <td>0.025</td>\n",
       "      <td>0.0</td>\n",
       "    </tr>\n",
       "  </tbody>\n",
       "</table>\n",
       "</div>"
      ],
      "text/plain": [
       "    time  current\n",
       "0  0.005      0.0\n",
       "1  0.010      0.0\n",
       "2  0.015      0.0\n",
       "3  0.020      0.0\n",
       "4  0.025      0.0"
      ]
     },
     "execution_count": 5,
     "metadata": {},
     "output_type": "execute_result"
    }
   ],
   "source": [
    "df.head()"
   ]
  },
  {
   "cell_type": "code",
   "execution_count": 6,
   "metadata": {},
   "outputs": [],
   "source": [
    "# For the data reduction \n",
    "k=0\n",
    "T =[]\n",
    "I =[]\n",
    "for t,i in zip(df['time'],df['current']):\n",
    "    if k%100 == 0:\n",
    "        T.append(t)\n",
    "        I.append(i)\n",
    "    k = k+1"
   ]
  },
  {
   "cell_type": "code",
   "execution_count": 7,
   "metadata": {},
   "outputs": [
    {
     "data": {
      "text/plain": [
       "1500"
      ]
     },
     "execution_count": 7,
     "metadata": {},
     "output_type": "execute_result"
    }
   ],
   "source": [
    "len(T)"
   ]
  },
  {
   "cell_type": "code",
   "execution_count": 8,
   "metadata": {},
   "outputs": [],
   "source": [
    "df = pd.DataFrame()\n",
    "df['time'] = T\n",
    "df['current'] = I"
   ]
  },
  {
   "cell_type": "code",
   "execution_count": 9,
   "metadata": {},
   "outputs": [],
   "source": [
    "df.to_csv(\"output/current without Na regulation.csv\")"
   ]
  },
  {
   "cell_type": "code",
   "execution_count": 19,
   "metadata": {},
   "outputs": [
    {
     "data": {
      "image/png": "[encoded data removed]",
      "text/plain": [
       "<Figure size 720x432 with 1 Axes>"
      ]
     },
     "metadata": {},
     "output_type": "display_data"
    }
   ],
   "source": [
    "plt.figure(figsize = [10,6])\n",
    "plt.plot(T,I)\n",
    "plt.xticks([i*50 for i in range(15)])\n",
    "plt.xlabel(\"Time(t)\")\n",
    "plt.ylabel(\"Current\")\n",
    "plt.savefig(\"plot/current_Na .png\")\n",
    "plt.savefig(\"plot/current_Na.pdf\")\n",
    "plt.show()"
   ]
  },
  {
   "cell_type": "code",
   "execution_count": 20,
   "metadata": {},
   "outputs": [
    {
     "data": {
      "image/png": "[encoded data removed]",
      "text/plain": [
       "<Figure size 720x432 with 1 Axes>"
      ]
     },
     "metadata": {},
     "output_type": "display_data"
    }
   ],
   "source": [
    "plt.figure(figsize = [10,6])\n",
    "plt.plot(tnow,ixnow)\n",
    "plt.xticks([i*50 for i in range(15)])\n",
    "plt.xlabel(\"Time(t)\")\n",
    "plt.ylabel(\"Current\")\n",
    "#plt.savefig(\"plot/current.png\")\n",
    "#plt.savefig(\"plot/current.pdf\")\n",
    "plt.show()"
   ]
  },
  {
   "cell_type": "code",
   "execution_count": 21,
   "metadata": {},
   "outputs": [],
   "source": [
    "A = [i*50 for i in range(15)]"
   ]
  },
  {
   "cell_type": "code",
   "execution_count": 22,
   "metadata": {},
   "outputs": [
    {
     "data": {
      "text/plain": [
       "[0, 50, 100, 150, 200, 250, 300, 350, 400, 450, 500, 550, 600, 650, 700]"
      ]
     },
     "execution_count": 22,
     "metadata": {},
     "output_type": "execute_result"
    }
   ],
   "source": [
    "A"
   ]
  },
  {
   "cell_type": "markdown",
   "metadata": {},
   "source": [
    "### Na-dependent inactivation dictates activation by Ca"
   ]
  },
  {
   "cell_type": "code",
   "execution_count": 23,
   "metadata": {},
   "outputs": [
    {
     "data": {
      "image/png": "[encoded data removed]",
      "text/plain": [
       "<Figure size 720x432 with 1 Axes>"
      ]
     },
     "metadata": {},
     "output_type": "display_data"
    }
   ],
   "source": [
    "ni = 40\n",
    "plt.figure(figsize = [10,6])\n",
    "for kinact in [0, 0.03,0.1,0.3,1.0]:\n",
    "    cinow = []\n",
    "    ixnow = []\n",
    "    for i in range(1,1001):\n",
    "        \n",
    "        logci = -(8-(i/300))\n",
    "        ci = (10**(logci))*1000000\n",
    "        f3n = (ni**2.5)/((ni**2.5)+(17**2.5))\n",
    "        kcon1 = 0.1\n",
    "        kcoff1 = 0.05\n",
    "        kcon2 = 20\n",
    "        kcoff2 = 0.3\n",
    "    \n",
    "    \n",
    "        k2 = ci*kcon1\n",
    "        k1 = kcoff1\n",
    "        k5 = ci*kcon2\n",
    "        k6 = kcoff2\n",
    "        k8 = 0.3\n",
    "        k7 = f3n*kinact\n",
    "        k3 = 0.1\n",
    "        k4 = f3n*kinact*25\n",
    "    \n",
    "    \n",
    "        x1 = k2*k4*(k7+k6)+k5*k7*(k2+k3)\n",
    "        x2 = k1*k7*(k4+k5)+k4*k6*(k1+k8)\n",
    "        x3 = k1*k3*(k7+k6)+k8*k6*(k2+k3)\n",
    "        x4 = k2*k8*(k4+k5)+k3*k5*(k1+k8)\n",
    "        d = x1+x2+x3+x4\n",
    "    \n",
    "        e1 = x1/d\n",
    "        e2 = x2/d\n",
    "        e3 = x3/d\n",
    "        e4 = x4/d\n",
    "        incx = e4*f3n\n",
    "        \n",
    "        cinow.append(logci)\n",
    "        ixnow.append(incx)\n",
    "        \n",
    "    plt.plot(cinow,ixnow,label= \"kinact=\"+str(kinact))\n",
    "    \n",
    "plt.xlabel(\"$pCa_{in}$\")\n",
    "plt.ylabel(\"$F_{max}$\")\n",
    "plt.legend()\n",
    "#plt.savefig(\"plot/inact.png\")\n",
    "#plt.savefig(\"plot/inact.pdf\")\n",
    "plt.show()"
   ]
  },
  {
   "cell_type": "code",
   "execution_count": null,
   "metadata": {},
   "outputs": [],
   "source": []
  },
  {
   "cell_type": "code",
   "execution_count": null,
   "metadata": {},
   "outputs": [],
   "source": []
  },
  {
   "cell_type": "code",
   "execution_count": null,
   "metadata": {},
   "outputs": [],
   "source": []
  },
  {
   "cell_type": "code",
   "execution_count": null,
   "metadata": {},
   "outputs": [],
   "source": []
  },
  {
   "cell_type": "code",
   "execution_count": null,
   "metadata": {},
   "outputs": [],
   "source": []
  }
 ],
 "metadata": {
  "kernelspec": {
   "display_name": "Python 3",
   "language": "python",
   "name": "python3"
  },
  "language_info": {
   "codemirror_mode": {
    "name": "ipython",
    "version": 3
   },
   "file_extension": ".py",
   "mimetype": "text/x-python",
   "name": "python",
   "nbconvert_exporter": "python",
   "pygments_lexer": "ipython3",
   "version": "3.6.5"
  }
 },
 "nbformat": 4,
 "nbformat_minor": 2
}
