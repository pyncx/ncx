{
 "cells": [
  {
   "cell_type": "markdown",
   "metadata": {},
   "source": [
    "##  Four State Model\n",
    "-------------"
   ]
  },
  {
   "cell_type": "code",
   "execution_count": 26,
   "metadata": {},
   "outputs": [],
   "source": [
    "import numpy as np\n",
    "import matplotlib.pyplot as plt\n",
    "import seaborn as sns\n",
    "from scipy import linalg\n",
    "from scipy.integrate import odeint\n",
    "sns.set()\n",
    "%matplotlib inline"
   ]
  },
  {
   "cell_type": "markdown",
   "metadata": {},
   "source": [
    "Following is the two state simultaneous model. States E1 to R4 represents the exchenger with \n",
    "- (1) calcium bound on the internal membrane side (E1)\n",
    "- (2) calcium bound on the extrnal membrane (E2)\n",
    "- (3) no calcium bound in hte external side (E3)\n",
    "- (4) no calcium bound in the internal side (E4)\n",
    "\n",
    "For the consecutive model,\n",
    " - Only those fraction of the states E3 and E4 will undergo translocation which have bound three sodium ions\n",
    " - Only those fractions of the states E1 and E2 will bind calcium which have no bound sodium ions"
   ]
  },
  {
   "cell_type": "markdown",
   "metadata": {},
   "source": [
    "<img src = \"img/4.png\" height=300px width=300px> <img>"
   ]
  },
  {
   "cell_type": "markdown",
   "metadata": {},
   "source": [
    "#### Transition Matrix\n",
    "\n",
    "|states|E1|E2|E3|E4\n",
    "|--|--|--|--|--|\n",
    "|E1|1-(k1+k8) |k1 |0 |k8|\n",
    "|E2|k2 |1-(k2+k3) |k3|0|\n",
    "|E3|0 |k4|1-(k4+k5) |k5|\n",
    "|E4|k7 |0 |k6 |1-(k7+k6)|\n"
   ]
  },
  {
   "cell_type": "markdown",
   "metadata": {},
   "source": [
    "#### Differential Equations"
   ]
  },
  {
   "cell_type": "markdown",
   "metadata": {},
   "source": [
    "$\\frac{dE_{1}}{dt} = k_{2}E_{2} + k_{7}E_{4} - (k_{1}+k_{8})E_{1}$\n",
    "\n",
    "$\\frac{dE_{2}}{dt} = k_{4}E_{3} + k_{1}E_{1} - (k_{2}+k_{3})E_{2}$\n",
    "\n",
    "$\\frac{dE_{3}}{dt} = k_{3}E_{2} + k_{6}E_{4} - (k_{4}+k_{5})E_{3}$\n",
    "\n",
    "$\\frac{dE_{4}}{dt} = k_{8}E_{1} + k_{5}E_{3} - (k_{7}+k_{6})E_{4}$\n",
    "\n",
    "Using, $ E_4 = 1 - E_1 - E_2 - E_3 $"
   ]
  },
  {
   "cell_type": "markdown",
   "metadata": {},
   "source": [
    "$\\frac{dE_{1}}{dt} = - (k_{1}+k_{8} + k_{7})E_{1} + (k_{2}-k_{7})E_{2}- k_{7}E_{3} + k_{7}$\n",
    "\n",
    "$\\frac{dE_{2}}{dt} =  k_{1}E_{1} - (k_{2}+k_{3})E_{2}+ k_{4}E_{3}$\n",
    "\n",
    "$\\frac{dE_{3}}{dt} =  - k_{6}E_{1} + (k_{3}- k_{6})E_{2} - (k_{4}+k_{5} + k_{6})E_{3} + k_{6}$"
   ]
  },
  {
   "cell_type": "markdown",
   "metadata": {},
   "source": [
    "#### Matrix Equation"
   ]
  },
  {
   "cell_type": "markdown",
   "metadata": {},
   "source": [
    "$$\\begin{pmatrix}\n",
    "-(k_{1} + k_{8} + k_{7}) & (k_{2}-k_{7}) & -k_{7}\\\\\n",
    "k_{1} & - (k_{2}+k_{3}) & k_{4} \\\\\n",
    "- k_{6} & (k_{3}- k_{6}) & - (k_{4}+k_{5} + k_{6})\\\\\n",
    "\\end{pmatrix} \\begin{pmatrix}\n",
    "E_{1}\\\\\n",
    "E_{2}\\\\\n",
    "E_{3}\\\\\n",
    "\\end{pmatrix} = \\begin{pmatrix}\n",
    "-k_{7}\\\\\n",
    "0\\\\\n",
    "-k_{6}\\\\\n",
    "\\end{pmatrix}$$"
   ]
  },
  {
   "cell_type": "code",
   "execution_count": 27,
   "metadata": {},
   "outputs": [],
   "source": [
    "ni = 40\n",
    "ci = 2\n",
    "f3n = ni**2.5/(ni**2.5+17**2.5)\n",
    "kcon1 = 0.1\n",
    "kcoff1 = 0.05\n",
    "kcon2 = 20\n",
    "kcoff2 = 0.3\n",
    "# kinact = 0\n",
    "#kinact = 0.03\n",
    "#kinact = 0.1\n",
    "kinact = 0.3\n",
    "#kinact = 1\n",
    "k2 = ci*kcon1\n",
    "k1 = kcoff1\n",
    "k5 = ci*kcon2\n",
    "k6 = kcoff2\n",
    "k8 = 0.3\n",
    "k7 = f3n*kinact\n",
    "k3 = 0.1\n",
    "k4 = f3n*kinact*25"
   ]
  },
  {
   "cell_type": "code",
   "execution_count": 28,
   "metadata": {},
   "outputs": [],
   "source": [
    "k = {\"k1\":k1,\"k2\":k2,\"k3\":k3,\\\n",
    "    \"k4\":k4,\"k5\":k5,\"k6\":k6,\\\n",
    "    \"k7\":k7,\"k8\":k8}"
   ]
  },
  {
   "cell_type": "code",
   "execution_count": 29,
   "metadata": {},
   "outputs": [
    {
     "data": {
      "text/plain": [
       "{'k1': 0.05,\n",
       " 'k2': 0.2,\n",
       " 'k3': 0.1,\n",
       " 'k4': 6.709889727874804,\n",
       " 'k5': 40,\n",
       " 'k6': 0.3,\n",
       " 'k7': 0.2683955891149922,\n",
       " 'k8': 0.3}"
      ]
     },
     "execution_count": 29,
     "metadata": {},
     "output_type": "execute_result"
    }
   ],
   "source": [
    "k"
   ]
  },
  {
   "cell_type": "markdown",
   "metadata": {},
   "source": [
    "Algebric Solution"
   ]
  },
  {
   "cell_type": "code",
   "execution_count": 30,
   "metadata": {},
   "outputs": [],
   "source": [
    "A = np.array([[-(k1+k8+k7),(k2-k7), -k7],[k1,-(k2+k3),k4],[-k6,(k3-k6),-(k4+k5+k6)]])"
   ]
  },
  {
   "cell_type": "code",
   "execution_count": 31,
   "metadata": {},
   "outputs": [
    {
     "data": {
      "text/plain": [
       "array([[ -0.61839559,  -0.06839559,  -0.26839559],\n",
       "       [  0.05      ,  -0.3       ,   6.70988973],\n",
       "       [ -0.3       ,  -0.2       , -47.00988973]])"
      ]
     },
     "execution_count": 31,
     "metadata": {},
     "output_type": "execute_result"
    }
   ],
   "source": [
    "A"
   ]
  },
  {
   "cell_type": "code",
   "execution_count": 32,
   "metadata": {},
   "outputs": [],
   "source": [
    "b = np.array([-k7,0,-k6])"
   ]
  },
  {
   "cell_type": "code",
   "execution_count": 33,
   "metadata": {},
   "outputs": [],
   "source": [
    "x = np.linalg.solve(A,b)"
   ]
  },
  {
   "cell_type": "code",
   "execution_count": 34,
   "metadata": {},
   "outputs": [
    {
     "data": {
      "text/plain": [
       "(array([0.41723924, 0.13944994, 0.00312569]), 0.440185127398369)"
      ]
     },
     "execution_count": 34,
     "metadata": {},
     "output_type": "execute_result"
    }
   ],
   "source": [
    "x,1-sum(x)"
   ]
  },
  {
   "cell_type": "markdown",
   "metadata": {},
   "source": [
    "Analytical Solution"
   ]
  },
  {
   "cell_type": "code",
   "execution_count": 35,
   "metadata": {},
   "outputs": [],
   "source": [
    "x1 = k2*k4*(k7+k6)+k5*k7*(k2+k3)\n",
    "x2 = k1*k7*(k4+k5)+k4*k6*(k1+k8)\n",
    "x3 = k1*k3*(k7+k6)+k8*k6*(k2+k3)\n",
    "x4 = k2*k8*(k4+k5)+k3*k5*(k1+k8)"
   ]
  },
  {
   "cell_type": "code",
   "execution_count": 36,
   "metadata": {},
   "outputs": [
    {
     "data": {
      "text/plain": [
       "(3.9835214143343136,\n",
       " 1.3313748399773184,\n",
       " 0.029841977945574964,\n",
       " 4.202593383672488)"
      ]
     },
     "execution_count": 36,
     "metadata": {},
     "output_type": "execute_result"
    }
   ],
   "source": [
    "x1,x2,x3,x4"
   ]
  },
  {
   "cell_type": "code",
   "execution_count": 37,
   "metadata": {},
   "outputs": [
    {
     "data": {
      "text/plain": [
       "(0.4172392428150102,\n",
       " 0.13944994198755215,\n",
       " 0.0031256877990687693,\n",
       " 0.4401851273983689)"
      ]
     },
     "execution_count": 37,
     "metadata": {},
     "output_type": "execute_result"
    }
   ],
   "source": [
    "s = x1+x2+x3+x4\n",
    "E1 = x1/s\n",
    "E2 = x2/s\n",
    "E3 = x3/s\n",
    "E4 = x4/s\n",
    "E1,E2,E3,E4"
   ]
  },
  {
   "cell_type": "markdown",
   "metadata": {},
   "source": [
    "Simultaneously Diff Equation"
   ]
  },
  {
   "cell_type": "code",
   "execution_count": 38,
   "metadata": {},
   "outputs": [],
   "source": [
    "# function that returns dy/dt\n",
    "def model(y,t,k):\n",
    "    '''y[0] = E1, y[1] = E22, y[2] = E3, y[3] = E4'''\n",
    "    \n",
    "    dy1dt = -(k[\"k1\"]+k[\"k8\"]+k[\"k7\"])*y[0] \\\n",
    "             +(k[\"k2\"]-k[\"k7\"])*y[1]\\\n",
    "             -k[\"k7\"]*y[2]+k[\"k7\"]\n",
    "    \n",
    "    dy2dt = k[\"k1\"]*y[0] \\\n",
    "           - (k[\"k2\"]+k[\"k3\"])*y[1]\\\n",
    "           + k[\"k4\"]*y[2]\n",
    "    \n",
    "    dy3dt = -k[\"k6\"]*y[0]\\\n",
    "            + (k[\"k3\"]-k[\"k6\"])*y[1]\\\n",
    "            -(k[\"k4\"]+k[\"k5\"]+k[\"k6\"])*y[2] + k[\"k6\"]\n",
    "    \n",
    "    dydt = [dy1dt,dy2dt,dy3dt]\n",
    "    return dydt"
   ]
  },
  {
   "cell_type": "code",
   "execution_count": null,
   "metadata": {},
   "outputs": [],
   "source": []
  },
  {
   "cell_type": "code",
   "execution_count": 39,
   "metadata": {},
   "outputs": [],
   "source": [
    "N = 1\n",
    "T = 50\n",
    "#initial Conditions\n",
    "y0 = [0,0,1]\n",
    "# time points\n",
    "t = np.linspace(0,T)\n",
    "\n",
    "'''Solve ODEs'''\n",
    "Y = odeint(model,y0,t,args=(k,))\n",
    "\n",
    "y1 = np.empty_like(t)\n",
    "y2 = np.empty_like(t)\n",
    "y3 = np.empty_like(t)\n",
    "y4 = np.empty_like(t)\n",
    "for i in range(len(t)):\n",
    "    y1[i] = Y[i][0]\n",
    "    y2[i] = Y[i][1]\n",
    "    y3[i] = Y[i][2]\n",
    "    y4[i] = 1 -Y[i][0] - Y[i][1] - Y[i][2]"
   ]
  },
  {
   "cell_type": "code",
   "execution_count": 40,
   "metadata": {},
   "outputs": [
    {
     "data": {
      "text/plain": [
       "(0.4172392442156164,\n",
       " 0.13944994003585173,\n",
       " 0.0031256877983926873,\n",
       " 0.44018512795013914)"
      ]
     },
     "execution_count": 40,
     "metadata": {},
     "output_type": "execute_result"
    }
   ],
   "source": [
    "y1[T-1],y2[T-1],y3[T-1],y4[T-1]"
   ]
  },
  {
   "cell_type": "code",
   "execution_count": 41,
   "metadata": {},
   "outputs": [
    {
     "data": {
      "image/png": "[encoded data removed]",
      "text/plain": [
       "<Figure size 1080x360 with 1 Axes>"
      ]
     },
     "metadata": {
      "needs_background": "light"
     },
     "output_type": "display_data"
    }
   ],
   "source": [
    "# plot results\n",
    "plt.figure(figsize = [15,5])\n",
    "plt.plot(t,y1,linewidth=2,label='E1')\n",
    "plt.plot(t,y2,linewidth=2,label='E2')\n",
    "plt.plot(t,y3,linewidth=2,label='E3')\n",
    "plt.plot(t,y4,linewidth=2,label='E4')\n",
    "\n",
    "plt.xlabel('time')\n",
    "plt.ylabel('y(t)')\n",
    "plt.legend()\n",
    "plt.show()"
   ]
  },
  {
   "cell_type": "markdown",
   "metadata": {},
   "source": [
    "### Calculation"
   ]
  },
  {
   "cell_type": "code",
   "execution_count": null,
   "metadata": {},
   "outputs": [],
   "source": []
  },
  {
   "cell_type": "code",
   "execution_count": null,
   "metadata": {},
   "outputs": [],
   "source": []
  },
  {
   "cell_type": "code",
   "execution_count": null,
   "metadata": {},
   "outputs": [],
   "source": []
  },
  {
   "cell_type": "code",
   "execution_count": null,
   "metadata": {},
   "outputs": [],
   "source": []
  },
  {
   "cell_type": "code",
   "execution_count": null,
   "metadata": {},
   "outputs": [],
   "source": []
  },
  {
   "cell_type": "code",
   "execution_count": null,
   "metadata": {},
   "outputs": [],
   "source": []
  },
  {
   "cell_type": "code",
   "execution_count": null,
   "metadata": {},
   "outputs": [],
   "source": []
  }
 ],
 "metadata": {
  "kernelspec": {
   "display_name": "Python 3",
   "language": "python",
   "name": "python3"
  },
  "language_info": {
   "codemirror_mode": {
    "name": "ipython",
    "version": 3
   },
   "file_extension": ".py",
   "mimetype": "text/x-python",
   "name": "python",
   "nbconvert_exporter": "python",
   "pygments_lexer": "ipython3",
   "version": "3.7.4"
  }
 },
 "nbformat": 4,
 "nbformat_minor": 2
}
