{
 "cells": [
  {
   "cell_type": "markdown",
   "metadata": {},
   "source": [
    "### Steady-State and Dynamic Properties of Cardiac Sodium-Calcium Exchange"
   ]
  },
  {
   "cell_type": "markdown",
   "metadata": {},
   "source": [
    "#### Secondary Modulation by Cytoplasmic Calcium and ATP\n",
    "\n",
    "Presents the dynamic responce of cardiac sodium-calcium exchange current to the changes of cytoplasmic calcum."
   ]
  },
  {
   "cell_type": "markdown",
   "metadata": {},
   "source": [
    "---------"
   ]
  },
  {
   "cell_type": "markdown",
   "metadata": {},
   "source": [
    "![img](img/2state.png)"
   ]
  },
  {
   "cell_type": "markdown",
   "metadata": {},
   "source": [
    "- Rate of transition to inactivation state = $\\alpha_1$\n",
    "- Rate of recovery from inactivation satae = $\\beta_1$"
   ]
  },
  {
   "cell_type": "markdown",
   "metadata": {},
   "source": [
    "-------"
   ]
  },
  {
   "cell_type": "markdown",
   "metadata": {},
   "source": [
    "$\\large{F_{Caact} = \\frac{Ca_{i}}{(Ca_{i} + K_{Caact})}}$\n",
    "\n",
    " - Fraction of exchangers with calcium bound at regulatory cite: $F_{Caact}$\n",
    " - Free cytoplasmic calcium concentration : $Ca_{i}$\n",
    " - Dissociation constant for calcium from the regulatory site : $K_{Caact}$"
   ]
  },
  {
   "cell_type": "code",
   "execution_count": null,
   "metadata": {},
   "outputs": [],
   "source": []
  }
 ],
 "metadata": {
  "kernelspec": {
   "display_name": "Python 3",
   "language": "python",
   "name": "python3"
  },
  "language_info": {
   "codemirror_mode": {
    "name": "ipython",
    "version": 3
   },
   "file_extension": ".py",
   "mimetype": "text/x-python",
   "name": "python",
   "nbconvert_exporter": "python",
   "pygments_lexer": "ipython3",
   "version": "3.7.1"
  }
 },
 "nbformat": 4,
 "nbformat_minor": 2
}
