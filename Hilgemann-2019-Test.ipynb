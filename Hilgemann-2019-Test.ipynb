{
 "cells": [
  {
   "cell_type": "markdown",
   "metadata": {},
   "source": [
    "## Regulation of ion transport from within ion transit pathways\n",
    "-------------"
   ]
  },
  {
   "cell_type": "code",
   "execution_count": 1,
   "metadata": {},
   "outputs": [],
   "source": [
    "import numpy as np\n",
    "import matplotlib.pyplot as plt\n",
    "import seaborn as sns\n",
    "from scipy import linalg\n",
    "from scipy.integrate import odeint\n",
    "sns.set()\n",
    "%matplotlib inline"
   ]
  },
  {
   "cell_type": "markdown",
   "metadata": {},
   "source": [
    "### Detail"
   ]
  },
  {
   "cell_type": "markdown",
   "metadata": {},
   "source": [
    "<img src = \"img/hill2019.png\" height=500px width=500px> <img>"
   ]
  },
  {
   "cell_type": "code",
   "execution_count": 2,
   "metadata": {},
   "outputs": [],
   "source": [
    "Ni = 100*1e-3\n",
    "Ci = 2*1e-6\n",
    "F_3n = Ni**2.5/(Ni**2.5 + (17*1e-3)**2.5)\n",
    "K_con1 = 0.1*1e-6\n",
    "K_con2 = 20\n",
    "K_coff1 = 0.05*1e-6\n",
    "K_coff2 = 0.3\n",
    "K_12 = 0.2\n",
    "K_43 = 0.1\n",
    "K_inact1 = 0.2\n",
    "K_inact2 = 25*K_inact1"
   ]
  },
  {
   "cell_type": "code",
   "execution_count": 3,
   "metadata": {},
   "outputs": [],
   "source": [
    "k = {\"Ni\": Ni,\"Ci\":Ci, \"F_3n\": F_3n,\\\n",
    "     \"K_con1\": K_con1,\"K_con2\":K_con2,\\\n",
    "     \"K_coff1\":K_coff1,\"K_coff2\": K_coff2,\\\n",
    "     \"K_12\": K_12,\"K_43\":K_43,\"K_inact1\": K_inact1,\\\n",
    "     \"K_inact2\": K_inact2}"
   ]
  },
  {
   "cell_type": "code",
   "execution_count": 4,
   "metadata": {},
   "outputs": [
    {
     "data": {
      "text/plain": [
       "{'Ni': 0.1,\n",
       " 'Ci': 2e-06,\n",
       " 'F_3n': 0.9882245384948203,\n",
       " 'K_con1': 1e-07,\n",
       " 'K_con2': 20,\n",
       " 'K_coff1': 5e-08,\n",
       " 'K_coff2': 0.3,\n",
       " 'K_12': 0.2,\n",
       " 'K_43': 0.1,\n",
       " 'K_inact1': 0.2,\n",
       " 'K_inact2': 5.0}"
      ]
     },
     "execution_count": 4,
     "metadata": {},
     "output_type": "execute_result"
    }
   ],
   "source": [
    "k"
   ]
  },
  {
   "cell_type": "markdown",
   "metadata": {},
   "source": [
    "#### Differential Equations"
   ]
  },
  {
   "cell_type": "markdown",
   "metadata": {},
   "source": [
    "$F_{3n} = \\frac{Ni^{2.5}}{Ni^{2.5} + 17^{2.5}}$\n",
    "\n",
    "$\\frac{dF_{1}}{dt} = F_4C_iK_{con1} - F_{1}K_{coff1} + F_{2}F_{3n} K_{inact1} - F_1K_{12}$\n",
    "\n",
    "$\\frac{dF_{2}}{dt} = F_3 C_i K_{con2} - F_{2} K_{con2} + F_{1} K_{12} - F_{2} F_{3n} K_{inact1}$\n",
    "\n",
    "$\\frac{dF_{3}}{dt} = F_2 K_{coff2} + F_{4} K_{43} - F_{3}C_{i}K_{con2} - F_{3}F_{3n}K_{inact2}$\n",
    "\n",
    "$F_{4} = 1 - F_{1} -F_{2} - F_{3}$"
   ]
  },
  {
   "cell_type": "markdown",
   "metadata": {},
   "source": [
    "#### Reduced Equation"
   ]
  },
  {
   "cell_type": "markdown",
   "metadata": {},
   "source": [
    "$\\frac{dF_{1}}{dt} = C_iK_{con1} - F_{1}(K_{coff1}+C_iK_{con1} + K_{12}) + F_{2}(F_{3n} K_{inact1}- C_iK_{con1}) - F_{3}C_iK_{con1}$\n"
   ]
  },
  {
   "cell_type": "markdown",
   "metadata": {},
   "source": [
    "$\\frac{dF_{2}}{dt} = F_{1} K_{12} - F_{2} (K_{con2}+F_{3n} K_{inact1})+ F_3 C_i K_{con2}$"
   ]
  },
  {
   "cell_type": "markdown",
   "metadata": {},
   "source": [
    "$\\frac{dF_{3}}{dt} =  K_{43} - F_{1}K_{43} + F_2 (K_{coff2} - K_{43}) - F_{3}(C_{i}K_{con2} + F_{3n}K_{inact2} + K_{43}) $"
   ]
  },
  {
   "cell_type": "markdown",
   "metadata": {},
   "source": [
    "### Calculation"
   ]
  },
  {
   "cell_type": "code",
   "execution_count": 5,
   "metadata": {},
   "outputs": [],
   "source": [
    "# function that returns dy/dt\n",
    "def model(y,t,k):\n",
    "    \n",
    "    '''y[0] = F1,\n",
    "       y[1] = F2,\n",
    "       y[2] = F3,\n",
    "    '''\n",
    "    \n",
    "    dy1dt = k[\"Ci\"]*k[\"K_con1\"] \\\n",
    "           - y[0]*(k[\"K_coff1\"]+k[\"Ci\"]*k[\"K_con1\"]+k[\"K_12\"])\\\n",
    "           + y[1]*(k[\"F_3n\"]*k[\"K_inact1\"]-k[\"Ci\"]*k[\"K_con1\"])\\\n",
    "           - y[2]*k[\"Ci\"]*k[\"K_con1\"]\n",
    "    \n",
    "    dy2dt = y[0]*k[\"K_12\"] \\\n",
    "           -y[1]*(k[\"K_con2\"]+k[\"F_3n\"]*k[\"K_inact1\"])\\\n",
    "           +y[2]*k[\"Ci\"]*k[\"K_con2\"]\n",
    "    \n",
    "    dy3dt = k[\"K_43\"]\\\n",
    "           -y[0]*k[\"K_43\"]\\\n",
    "           +y[1]*(k[\"K_coff2\"]-k[\"K_43\"])\\\n",
    "           -y[2]*(k[\"Ci\"]*k[\"K_con2\"]+k[\"F_3n\"]*k[\"K_inact2\"]+k[\"K_43\"])\n",
    "    \n",
    "    dydt = [dy1dt,dy2dt,dy3dt]\n",
    "    return dydt"
   ]
  },
  {
   "cell_type": "code",
   "execution_count": 6,
   "metadata": {},
   "outputs": [],
   "source": [
    "N = 1\n",
    "T = 50\n",
    "y0 = [1,0,0]\n",
    "t = np.linspace(0,T)\n",
    "\n",
    "'''solve ODEs'''\n",
    "y = odeint(model,y0,t,args=(k,))\n",
    "\n",
    "y1 = np.empty_like(t)\n",
    "y2 = np.empty_like(t)\n",
    "y3 = np.empty_like(t)\n",
    "y4 = np.empty_like(t)\n",
    "I =  np.empty_like(t)\n",
    "for i in range(len(t)):\n",
    "    y1[i] = y[i][0]\n",
    "    y2[i] = y[i][1]\n",
    "    y3[i] = y[i][2]\n",
    "    y4[i] = 1 - y1[i] - y2[i] - y3[i] \n",
    "    I[i] = y2[i]*F_3n"
   ]
  },
  {
   "cell_type": "code",
   "execution_count": 7,
   "metadata": {},
   "outputs": [
    {
     "data": {
      "text/plain": [
       "(5.014955054667541e-05,\n",
       " 5.407977907554697e-07,\n",
       " 0.019835680478156214,\n",
       " 0.9801136291735063,\n",
       " 5.344296471883424e-07)"
      ]
     },
     "execution_count": 7,
     "metadata": {},
     "output_type": "execute_result"
    }
   ],
   "source": [
    "y1[T-1],y2[T-1],y3[T-1],y4[T-1],I[T-1]"
   ]
  },
  {
   "cell_type": "code",
   "execution_count": 8,
   "metadata": {},
   "outputs": [
    {
     "data": {
      "image/png": "[encoded data removed]",
      "text/plain": [
       "<Figure size 1080x360 with 1 Axes>"
      ]
     },
     "metadata": {
      "needs_background": "light"
     },
     "output_type": "display_data"
    }
   ],
   "source": [
    "# plot results\n",
    "plt.figure(figsize = [15,5])\n",
    "plt.plot(t,y1,linewidth=2,label='F1')\n",
    "plt.plot(t,y2,linewidth=2,label='F2')\n",
    "plt.plot(t,y3,linewidth=2,label='F3')\n",
    "plt.plot(t,y4,linewidth=2,label='F4')\n",
    "plt.xlabel('time')\n",
    "plt.ylabel('y(t)')\n",
    "plt.legend()\n",
    "plt.show()"
   ]
  },
  {
   "cell_type": "code",
   "execution_count": 9,
   "metadata": {},
   "outputs": [
    {
     "data": {
      "image/png": "[encoded data removed]",
      "text/plain": [
       "<Figure size 1080x360 with 1 Axes>"
      ]
     },
     "metadata": {
      "needs_background": "light"
     },
     "output_type": "display_data"
    }
   ],
   "source": [
    "# plot results\n",
    "plt.figure(figsize = [15,5])\n",
    "plt.plot(t,I,linewidth=2,label='I')\n",
    "plt.xlabel('time')\n",
    "plt.ylabel('y(t)')\n",
    "plt.legend()\n",
    "plt.show()"
   ]
  },
  {
   "cell_type": "markdown",
   "metadata": {},
   "source": [
    "### Simulation"
   ]
  },
  {
   "cell_type": "code",
   "execution_count": 10,
   "metadata": {},
   "outputs": [],
   "source": [
    "PTC = [{\"Ni\":0*1e-3,\"Ci\": 2*1e-6},\\\n",
    "       {\"Ni\":100*1e-3,\"Ci\": 2*1e-6},\\\n",
    "       {\"Ni\":0*1e-3,\"Ci\": 0*1e-6},\\\n",
    "       {\"Ni\":100*1e-3,\"Ci\": 0*1e-6},\\\n",
    "       {\"Ni\":0*1e-3,\"Ci\": 0*1e-6},\\\n",
    "       {\"Ni\":100*1e-3,\"Ci\": 2*1e-6},\\\n",
    "       {\"Ni\":100*1e-3,\"Ci\": 0*1e-6},\\\n",
    "       {\"Ni\":100*1e-3,\"Ci\": 2*1e-6},\\\n",
    "       {\"Ni\":100*1e-3,\"Ci\": 0*1e-6},\\\n",
    "       {\"Ni\":0*1e-3,\"Ci\": 2*1e-6},\\\n",
    "       {\"Ni\":100*1e-3,\"Ci\": 0*1e-6},\\\n",
    "       {\"Ni\":0*1e-3,\"Ci\": 0*1e-6},\\\n",
    "       {\"Ni\":100*1e-3,\"Ci\": 0*1e-6},\\\n",
    "       {\"Ni\":0*1e-3,\"Ci\": 0*1e-6},\\\n",
    "       {\"Ni\":100*1e-3,\"Ci\": 2*1e-6},\\\n",
    "       {\"Ni\":0*1e-3,\"Ci\": 0*1e-6}]"
   ]
  },
  {
   "cell_type": "code",
   "execution_count": 11,
   "metadata": {},
   "outputs": [],
   "source": [
    "PTCt = [{\"Ni\":0*1e-3,\"Ci\": 2*1e-6},\\\n",
    "       {\"Ni\":100*1e-3,\"Ci\": 2*1e-6},\\\n",
    "       {\"Ni\":0*1e-3,\"Ci\": 0*1e-6}]"
   ]
  },
  {
   "cell_type": "code",
   "execution_count": 12,
   "metadata": {},
   "outputs": [
    {
     "data": {
      "text/plain": [
       "16"
      ]
     },
     "execution_count": 12,
     "metadata": {},
     "output_type": "execute_result"
    }
   ],
   "source": [
    "len(PTC)"
   ]
  },
  {
   "cell_type": "code",
   "execution_count": 15,
   "metadata": {},
   "outputs": [],
   "source": [
    "Tc = 50\n",
    "TT = [i*Tc for i in range(len(PTCt))]"
   ]
  },
  {
   "cell_type": "code",
   "execution_count": 20,
   "metadata": {},
   "outputs": [
    {
     "data": {
      "image/png": "[encoded data removed]",
      "text/plain": [
       "<Figure size 576x432 with 1 Axes>"
      ]
     },
     "metadata": {
      "needs_background": "light"
     },
     "output_type": "display_data"
    }
   ],
   "source": [
    "plt.figure(figsize = [8,6])\n",
    "plt.xticks(fontsize=14)\n",
    "plt.yticks(fontsize=14)\n",
    "for i,T in enumerate(TT):\n",
    "    \n",
    "    ptc = PTCt[i]\n",
    "    Ni = ptc['Ni']\n",
    "    Ci = ptc['Ci']\n",
    "    \n",
    "    F_3n = Ni**2.5/(Ni**2.5 + (17*1e-3)**2.5)\n",
    "    K_con1 = 0.1*1e-6\n",
    "    K_con2 = 20\n",
    "    K_coff1 = 0.05*1e-6\n",
    "    K_coff2 = 0.3\n",
    "    K_12 = 0.2\n",
    "    K_43 = 0.1\n",
    "    K_inact1 = 0.2\n",
    "    K_inact2 = 25*K_inact1\n",
    "        \n",
    "    k = {\"Ni\": Ni,\"Ci\":Ci, \"F_3n\": F_3n,\\\n",
    "     \"K_con1\": K_con1,\"K_con2\":K_con2,\\\n",
    "     \"K_coff1\":K_coff1,\"K_coff2\": K_coff2,\\\n",
    "     \"K_12\": K_12,\"K_43\":K_43,\"K_inact1\": K_inact1,\\\n",
    "     \"K_inact2\": K_inact2}\n",
    "\n",
    "    y0 = [1,0,0]\n",
    "    t = np.linspace(T,T+Tc)\n",
    "    '''solve ODEs'''\n",
    "    y = odeint(model,y0,t,args=(k,))\n",
    "\n",
    "    y1 = np.empty_like(t)\n",
    "    y2 = np.empty_like(t)\n",
    "    y3 = np.empty_like(t)\n",
    "    y4 = np.empty_like(t)\n",
    "    I =  np.empty_like(t)\n",
    "    for i in range(len(t)):\n",
    "        y1[i] = y[i][0]\n",
    "        y2[i] = y[i][1]\n",
    "        y3[i] = y[i][2]\n",
    "        y4[i] = 1 - y1[i] - y2[i] - y3[i] \n",
    "        I[i] = y2[i]*F_3n\n",
    "        \n",
    "    y0 = [y1[Tc-1],y2[Tc-1],y3[Tc-1]]\n",
    "        \n",
    "    '''Plot the simulation'''\n",
    "    plt.plot(t,I,linewidth=2,label='I-'+str(T))\n",
    "    plt.xlabel('Time scale: t', fontsize =15)\n",
    "    plt.ylabel('Action Potential: y(t)', fontsize =15)\n",
    "    plt.legend()\n",
    "plt.show()"
   ]
  },
  {
   "cell_type": "code",
   "execution_count": null,
   "metadata": {},
   "outputs": [],
   "source": []
  },
  {
   "cell_type": "code",
   "execution_count": null,
   "metadata": {},
   "outputs": [],
   "source": []
  },
  {
   "cell_type": "code",
   "execution_count": null,
   "metadata": {},
   "outputs": [],
   "source": []
  }
 ],
 "metadata": {
  "kernelspec": {
   "display_name": "Python 3",
   "language": "python",
   "name": "python3"
  },
  "language_info": {
   "codemirror_mode": {
    "name": "ipython",
    "version": 3
   },
   "file_extension": ".py",
   "mimetype": "text/x-python",
   "name": "python",
   "nbconvert_exporter": "python",
   "pygments_lexer": "ipython3",
   "version": "3.7.1"
  }
 },
 "nbformat": 4,
 "nbformat_minor": 2
}
