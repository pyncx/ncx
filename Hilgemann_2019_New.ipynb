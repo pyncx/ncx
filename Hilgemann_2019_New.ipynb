{
 "cells": [
  {
   "cell_type": "code",
   "execution_count": 19,
   "metadata": {},
   "outputs": [],
   "source": [
    "import numpy as np\n",
    "import matplotlib.pyplot as plt\n",
    "import seaborn as sns\n",
    "from scipy import linalg\n",
    "from scipy.integrate import odeint\n",
    "sns.set()\n",
    "%matplotlib inline"
   ]
  },
  {
   "cell_type": "code",
   "execution_count": 20,
   "metadata": {},
   "outputs": [],
   "source": [
    "t = 0;dt = 0.003; s4 = 0;\n",
    "chi=2; ci=chi; s5=0.7; factive=0.2; s7=0.01; s6=1-factive-s7-s4;\n",
    "tnow =[]\n",
    "ixnow = []\n",
    "for i in range(1,150000+1):\n",
    "    t = t + dt\n",
    "    ni = 0\n",
    "    if t>30 and t<60:\n",
    "        ni = 100\n",
    "        ci = chi\n",
    "    if t>60 and t<90:\n",
    "        ni = 0\n",
    "        ci = 0\n",
    "    if t>90 and t<130:\n",
    "        ni = 100\n",
    "        ci = 0\n",
    "    if t>130 and t<160:\n",
    "        ni = 100\n",
    "        ci = chi\n",
    "    if t>160 and t<190:\n",
    "        ni = 100\n",
    "        ci = 0\n",
    "    if t>190 and t<220:\n",
    "        ni = 100\n",
    "        ci = chi\n",
    "    if t>220 and t<250:\n",
    "        ni = 100\n",
    "        ci = 0\n",
    "    if t>250 and t<280:\n",
    "        ni = 0\n",
    "        ci = chi\n",
    "    if t>280 and t<310:\n",
    "        ni = 100\n",
    "        ci = 0\n",
    "    if t>310 and t<340:\n",
    "        ni = 0\n",
    "        ci = 0\n",
    "    if t>340 and t<370:\n",
    "        ni = 100\n",
    "        ci = 0\n",
    "    if t>370 and t<400:\n",
    "        ni = 0\n",
    "        ci = 0\n",
    "    if t>400 and t<430:\n",
    "        ni = 100\n",
    "        ci = chi\n",
    "    if t>430 and t<460:\n",
    "        ni = 0\n",
    "        ci = 0\n",
    "        \n",
    "        \n",
    "    f3n=ni**2.5/(ni**2.5+17**2.5)\n",
    "    kcon1=0.1\n",
    "    kcoff1=0.05\n",
    "    kcon2=20 \n",
    "    kcoff2=0.3\n",
    "    kinact=0.2 \n",
    "    #kinact=1\n",
    "    #kinact=0.001 \n",
    "    #kinact=1\n",
    "    #kinact=0.2\n",
    "    \n",
    "    s5=s5+ (s6*ci*kcon1-s5*kcoff1+factive*f3n*kinact-s5*0.3) *dt\n",
    "    factive=factive+(s7*ci*kcon2-factive*kcoff2+s5*0.15-factive*f3n*kinact)*dt\n",
    "    s7=s7+(factive*kcoff2+s6*0.1-s7*ci*kcon2-s7*f3n*kinact*25)*dt\n",
    "    s6=1-s5-factive-s7\n",
    "    \n",
    "    incx=factive*f3n\n",
    "    tnow.append(t)\n",
    "    ixnow.append(incx)\n"
   ]
  },
  {
   "cell_type": "code",
   "execution_count": 21,
   "metadata": {},
   "outputs": [
    {
     "data": {
      "image/png": "[encoded data removed]",
      "text/plain": [
       "<Figure size 720x432 with 1 Axes>"
      ]
     },
     "metadata": {},
     "output_type": "display_data"
    }
   ],
   "source": [
    "plt.figure(figsize = [10,6])\n",
    "plt.plot(tnow,ixnow)\n",
    "plt.xlabel(\"Time(t)\")\n",
    "plt.ylabel(\"Current\")\n",
    "plt.show()"
   ]
  },
  {
   "cell_type": "code",
   "execution_count": null,
   "metadata": {},
   "outputs": [],
   "source": []
  },
  {
   "cell_type": "code",
   "execution_count": null,
   "metadata": {},
   "outputs": [],
   "source": []
  },
  {
   "cell_type": "code",
   "execution_count": null,
   "metadata": {},
   "outputs": [],
   "source": []
  },
  {
   "cell_type": "code",
   "execution_count": null,
   "metadata": {},
   "outputs": [],
   "source": []
  },
  {
   "cell_type": "code",
   "execution_count": null,
   "metadata": {},
   "outputs": [],
   "source": []
  },
  {
   "cell_type": "code",
   "execution_count": null,
   "metadata": {},
   "outputs": [],
   "source": []
  },
  {
   "cell_type": "code",
   "execution_count": null,
   "metadata": {},
   "outputs": [],
   "source": []
  },
  {
   "cell_type": "code",
   "execution_count": null,
   "metadata": {},
   "outputs": [],
   "source": []
  },
  {
   "cell_type": "code",
   "execution_count": null,
   "metadata": {},
   "outputs": [],
   "source": []
  },
  {
   "cell_type": "code",
   "execution_count": null,
   "metadata": {},
   "outputs": [],
   "source": []
  },
  {
   "cell_type": "code",
   "execution_count": null,
   "metadata": {},
   "outputs": [],
   "source": []
  },
  {
   "cell_type": "code",
   "execution_count": null,
   "metadata": {},
   "outputs": [],
   "source": []
  }
 ],
 "metadata": {
  "kernelspec": {
   "display_name": "Python 3",
   "language": "python",
   "name": "python3"
  },
  "language_info": {
   "codemirror_mode": {
    "name": "ipython",
    "version": 3
   },
   "file_extension": ".py",
   "mimetype": "text/x-python",
   "name": "python",
   "nbconvert_exporter": "python",
   "pygments_lexer": "ipython3",
   "version": "3.6.5"
  }
 },
 "nbformat": 4,
 "nbformat_minor": 2
}
