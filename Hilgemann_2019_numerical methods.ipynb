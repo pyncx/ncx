{
 "cells": [
  {
   "cell_type": "markdown",
   "metadata": {},
   "source": [
    "##  Four State Model\n",
    "-------------"
   ]
  },
  {
   "cell_type": "code",
   "execution_count": 61,
   "metadata": {},
   "outputs": [],
   "source": [
    "import numpy as np\n",
    "import matplotlib.pyplot as plt\n",
    "import seaborn as sns\n",
    "from scipy import linalg\n",
    "from scipy.integrate import odeint\n",
    "sns.set()\n",
    "%matplotlib inline"
   ]
  },
  {
   "cell_type": "markdown",
   "metadata": {},
   "source": [
    "Following is the two state simultaneous model. States E1 to R4 represents the exchenger with \n",
    "- (1) calcium bound on the internal membrane side (E1)\n",
    "- (2) calcium bound on the extrnal membrane (E2)\n",
    "- (3) no calcium bound in hte external side (E3)\n",
    "- (4) no calcium bound in the internal side (E4)\n",
    "\n",
    "For the consecutive model,\n",
    " - Only those fraction of the states E3 and E4 will undergo translocation which have bound three sodium ions\n",
    " - Only those fractions of the states E1 and E2 will bind calcium which have no bound sodium ions"
   ]
  },
  {
   "cell_type": "markdown",
   "metadata": {},
   "source": [
    "<img src = \"img/4.png\" height=300px width=300px> <img>"
   ]
  },
  {
   "cell_type": "markdown",
   "metadata": {},
   "source": [
    "#### Transition Matrix\n",
    "\n",
    "|states|E1|E2|E3|E4\n",
    "|--|--|--|--|--|\n",
    "|E1|1-(k1+k8) |k1 |0 |k8|\n",
    "|E2|k2 |1-(k2+k3) |k3|0|\n",
    "|E3|0 |k4|1-(k4+k5) |k5|\n",
    "|E4|k7 |0 |k6 |1-(k7+k6)|\n"
   ]
  },
  {
   "cell_type": "markdown",
   "metadata": {},
   "source": [
    "#### Differential Equations"
   ]
  },
  {
   "cell_type": "markdown",
   "metadata": {},
   "source": [
    "$\\frac{dE_{1}}{dt} = k_{2}E_{2} + k_{7}E_{4} - (k_{1}+k_{8})E_{1}$\n",
    "\n",
    "$\\frac{dE_{2}}{dt} = k_{4}E_{3} + k_{1}E_{1} - (k_{2}+k_{3})E_{2}$\n",
    "\n",
    "$\\frac{dE_{3}}{dt} = k_{3}E_{2} + k_{6}E_{4} - (k_{4}+k_{5})E_{3}$\n",
    "\n",
    "$\\frac{dE_{4}}{dt} = k_{8}E_{1} + k_{5}E_{3} - (k_{7}+k_{6})E_{4}$\n",
    "\n",
    "Using, $ E_4 = 1 - E_1 - E_2 - E_3 $"
   ]
  },
  {
   "cell_type": "markdown",
   "metadata": {},
   "source": [
    "$\\frac{dE_{1}}{dt} = - (k_{1}+k_{8} + k_{7})E_{1} + (k_{2}-k_{7})E_{2}- k_{7}E_{3} + k_{7}$\n",
    "\n",
    "$\\frac{dE_{2}}{dt} =  k_{1}E_{1} - (k_{2}+k_{3})E_{2}+ k_{4}E_{3}$\n",
    "\n",
    "$\\frac{dE_{3}}{dt} =  - k_{6}E_{1} + (k_{3}- k_{6})E_{2} - (k_{4}+k_{5} + k_{6})E_{3} + k_{6}$"
   ]
  },
  {
   "cell_type": "markdown",
   "metadata": {},
   "source": [
    "#### Matrix Equation"
   ]
  },
  {
   "cell_type": "markdown",
   "metadata": {},
   "source": [
    "$$\\begin{pmatrix}\n",
    "-(k_{1} + k_{8} + k_{7}) & (k_{2}-k_{7}) & -k_{7}\\\\\n",
    "k_{1} & - (k_{2}+k_{3}) & k_{4} \\\\\n",
    "- k_{6} & (k_{3}- k_{6}) & - (k_{4}+k_{5} + k_{6})\\\\\n",
    "\\end{pmatrix} \\begin{pmatrix}\n",
    "E_{1}\\\\\n",
    "E_{2}\\\\\n",
    "E_{3}\\\\\n",
    "\\end{pmatrix} = \\begin{pmatrix}\n",
    "-k_{7}\\\\\n",
    "0\\\\\n",
    "-k_{6}\\\\\n",
    "\\end{pmatrix}$$"
   ]
  },
  {
   "cell_type": "markdown",
   "metadata": {},
   "source": [
    "-----------"
   ]
  },
  {
   "cell_type": "code",
   "execution_count": 62,
   "metadata": {},
   "outputs": [],
   "source": [
    "ni = 40\n",
    "ci = 2\n",
    "f3n = ni**2.5/(ni**2.5+17**2.5)\n",
    "kcon1 = 0.1\n",
    "kcoff1 = 0.05\n",
    "kcon2 = 20\n",
    "kcoff2 = 0.3\n",
    "# kinact = 0\n",
    "#kinact = 0.03\n",
    "#kinact = 0.1\n",
    "kinact = 0.3\n",
    "#kinact = 1\n",
    "k2 = ci*kcon1\n",
    "k1 = kcoff1\n",
    "k5 = ci*kcon2\n",
    "k6 = kcoff2\n",
    "k8 = 0.3\n",
    "k7 = f3n*kinact\n",
    "k3 = 0.1\n",
    "k4 = f3n*kinact*25"
   ]
  },
  {
   "cell_type": "code",
   "execution_count": 63,
   "metadata": {},
   "outputs": [],
   "source": [
    "k = {\"k1\":kcoff1,\"k2\":ci*kcon1,\"k3\":0.1,\\\n",
    "    \"k4\":f3n*kinact*25,\"k5\":ci*kcon2,\\\n",
    "    \"k7\":f3n*kinact,\"k8\":0.8}"
   ]
  },
  {
   "cell_type": "code",
   "execution_count": 64,
   "metadata": {},
   "outputs": [
    {
     "data": {
      "text/plain": [
       "{'k1': 0.05,\n",
       " 'k2': 0.2,\n",
       " 'k3': 0.1,\n",
       " 'k4': 6.709889727874804,\n",
       " 'k5': 40,\n",
       " 'k7': 0.2683955891149922,\n",
       " 'k8': 0.8}"
      ]
     },
     "execution_count": 64,
     "metadata": {},
     "output_type": "execute_result"
    }
   ],
   "source": [
    "k"
   ]
  },
  {
   "cell_type": "code",
   "execution_count": 65,
   "metadata": {},
   "outputs": [],
   "source": [
    "# function that returns dy/dt\n",
    "def model(y,t,k):\n",
    "    '''y[0] = e1, y[1] = e2, y[2] = e3, y[3] = e4'''\n",
    "    dy1dt = -(k[\"k1\"]+k[\"k8\"]+k[\"k7\"])*y[0] +(k[\"k2\"]-k[\"k7\"])*y[1]-k[\"k7\"]*y[2]+k[\"k7\"]\n",
    "    dy2dt = k[\"k1\"]*y[0] - (k[\"k2\"]+k[\"k3\"])*y[1] + k[\"k4\"]*y[2]\n",
    "    dy3dt = -k[\"k6\"]*y[0] + (k[\"k3\"]-k[\"k6\"])*y[1] - (k[\"k4\"]+k[\"k5\"]+k[\"k6\"])*y[2] + k[\"k6\"]\n",
    "    dydt = [dy1dt,dy2dt,dy3dt]\n",
    "    return dydt"
   ]
  },
  {
   "cell_type": "code",
   "execution_count": 72,
   "metadata": {},
   "outputs": [
    {
     "data": {
      "text/plain": [
       "array([ 0.        ,  1.05263158,  2.10526316,  3.15789474,  4.21052632,\n",
       "        5.26315789,  6.31578947,  7.36842105,  8.42105263,  9.47368421,\n",
       "       10.52631579, 11.57894737, 12.63157895, 13.68421053, 14.73684211,\n",
       "       15.78947368, 16.84210526, 17.89473684, 18.94736842, 20.        ])"
      ]
     },
     "execution_count": 72,
     "metadata": {},
     "output_type": "execute_result"
    }
   ],
   "source": [
    "np.linspace(0,20,20,endpoint=True)"
   ]
  },
  {
   "cell_type": "code",
   "execution_count": 77,
   "metadata": {},
   "outputs": [
    {
     "ename": "IndexError",
     "evalue": "index 2 is out of bounds for axis 0 with size 2",
     "output_type": "error",
     "traceback": [
      "\u001b[1;31m---------------------------------------------------------------------------\u001b[0m",
      "\u001b[1;31mIndexError\u001b[0m                                Traceback (most recent call last)",
      "\u001b[1;32m<ipython-input-77-2f2e405294dd>\u001b[0m in \u001b[0;36m<module>\u001b[1;34m\u001b[0m\n\u001b[0;32m     13\u001b[0m     \u001b[0my1\u001b[0m\u001b[1;33m[\u001b[0m\u001b[0mi\u001b[0m\u001b[1;33m]\u001b[0m \u001b[1;33m=\u001b[0m \u001b[0my\u001b[0m\u001b[1;33m[\u001b[0m\u001b[0mi\u001b[0m\u001b[1;33m]\u001b[0m\u001b[1;33m[\u001b[0m\u001b[1;36m0\u001b[0m\u001b[1;33m]\u001b[0m\u001b[1;33m\u001b[0m\u001b[1;33m\u001b[0m\u001b[0m\n\u001b[0;32m     14\u001b[0m     \u001b[0my2\u001b[0m\u001b[1;33m[\u001b[0m\u001b[0mi\u001b[0m\u001b[1;33m]\u001b[0m \u001b[1;33m=\u001b[0m \u001b[0my\u001b[0m\u001b[1;33m[\u001b[0m\u001b[0mi\u001b[0m\u001b[1;33m]\u001b[0m\u001b[1;33m[\u001b[0m\u001b[1;36m1\u001b[0m\u001b[1;33m]\u001b[0m\u001b[1;33m\u001b[0m\u001b[1;33m\u001b[0m\u001b[0m\n\u001b[1;32m---> 15\u001b[1;33m     \u001b[0my3\u001b[0m\u001b[1;33m[\u001b[0m\u001b[0mi\u001b[0m\u001b[1;33m]\u001b[0m \u001b[1;33m=\u001b[0m \u001b[0my\u001b[0m\u001b[1;33m[\u001b[0m\u001b[0mi\u001b[0m\u001b[1;33m]\u001b[0m\u001b[1;33m[\u001b[0m\u001b[1;36m2\u001b[0m\u001b[1;33m]\u001b[0m\u001b[1;33m\u001b[0m\u001b[1;33m\u001b[0m\u001b[0m\n\u001b[0m\u001b[0;32m     16\u001b[0m     \u001b[0my4\u001b[0m\u001b[1;33m[\u001b[0m\u001b[0mi\u001b[0m\u001b[1;33m]\u001b[0m \u001b[1;33m=\u001b[0m \u001b[0mN\u001b[0m \u001b[1;33m-\u001b[0m \u001b[1;33m(\u001b[0m\u001b[0my\u001b[0m\u001b[1;33m[\u001b[0m\u001b[0mi\u001b[0m\u001b[1;33m]\u001b[0m\u001b[1;33m[\u001b[0m\u001b[1;36m0\u001b[0m\u001b[1;33m]\u001b[0m \u001b[1;33m-\u001b[0m \u001b[0my\u001b[0m\u001b[1;33m[\u001b[0m\u001b[0mi\u001b[0m\u001b[1;33m]\u001b[0m\u001b[1;33m[\u001b[0m\u001b[1;36m1\u001b[0m\u001b[1;33m]\u001b[0m \u001b[1;33m-\u001b[0m \u001b[0my\u001b[0m\u001b[1;33m[\u001b[0m\u001b[0mi\u001b[0m\u001b[1;33m]\u001b[0m\u001b[1;33m[\u001b[0m\u001b[1;36m2\u001b[0m\u001b[1;33m]\u001b[0m\u001b[1;33m)\u001b[0m\u001b[1;33m\u001b[0m\u001b[1;33m\u001b[0m\u001b[0m\n",
      "\u001b[1;31mIndexError\u001b[0m: index 2 is out of bounds for axis 0 with size 2"
     ]
    }
   ],
   "source": [
    "N = 1\n",
    "T = 0\n",
    "#initial Conditions\n",
    "y0 = [N,0]\n",
    "# time points\n",
    "t = np.linspace(0,T)\n",
    "'''Solve ODEs'''\n",
    "y = odeint(model,y0,t,args=(k,))\n",
    "y1 = np.empty_like(t)\n",
    "y2 = np.empty_like(t)\n",
    "y3 = np.empty_like(t)\n",
    "for i in range(len(t)):\n",
    "    y1[i] = y[i][0]\n",
    "    y2[i] = y[i][1]\n",
    "    y3[i] = y[i][2]\n",
    "    y4[i] = N - (y[i][0] - y[i][1] - y[i][2])"
   ]
  },
  {
   "cell_type": "code",
   "execution_count": null,
   "metadata": {},
   "outputs": [],
   "source": []
  },
  {
   "cell_type": "code",
   "execution_count": null,
   "metadata": {},
   "outputs": [],
   "source": []
  },
  {
   "cell_type": "code",
   "execution_count": null,
   "metadata": {},
   "outputs": [],
   "source": []
  },
  {
   "cell_type": "markdown",
   "metadata": {},
   "source": [
    "### Calculation"
   ]
  },
  {
   "cell_type": "code",
   "execution_count": 38,
   "metadata": {},
   "outputs": [],
   "source": [
    "ni = 40\n",
    "cinow = []\n",
    "ixnow = []\n",
    "for i in range(1,1001):\n",
    "    logci = -(8-i/300)\n",
    "    ci = 10**(logci)*1000000\n",
    "    f3n = ni**2.5/(ni**2.5+17**2.5)\n",
    "    kcon1 = 0.1\n",
    "    kcoff1 = 0.05\n",
    "    kcon2 = 20\n",
    "    kcoff2 = 0.3\n",
    "   # kinact = 0\n",
    "    #kinact = 0.03\n",
    "    #kinact = 0.1\n",
    "    #kinact = 0.3\n",
    "    kinact = 1\n",
    "    \n",
    "    k2 = ci*kcon1\n",
    "    k1 = kcoff1\n",
    "    k5 = ci*kcon2\n",
    "    k6 = kcoff2\n",
    "    k8 = 0.3\n",
    "    k7 = f3n*kinact\n",
    "    k3 = 0.1\n",
    "    k4 = f3n*kinact*25\n",
    "    \n",
    "    \n",
    "    x1 = k2*k4*(k7+k6)+k5*k7*(k2+k3)\n",
    "    x2 = k1*k7*(k4+k5)+k4*k6*(k1+k8)\n",
    "    x3 = k1*k3*(k7+k6)+k8*k6*(k2+k3)\n",
    "    x4 = k2*k8*(k4+k5)+k3*k5*(k1+k8)\n",
    "    d = x1+x2+x3+x4\n",
    "    \n",
    "    e1 = x1/d\n",
    "    e2 = x2/d\n",
    "    e3 = x3/d\n",
    "    e4 = x4/d\n",
    "    incx = e4*f3n\n",
    "    cinow.append(logci)\n",
    "    ixnow.append(incx)\n",
    "    \n"
   ]
  },
  {
   "cell_type": "code",
   "execution_count": 39,
   "metadata": {},
   "outputs": [
    {
     "data": {
      "image/png": "[encoded data removed]",
      "text/plain": [
       "<Figure size 720x432 with 1 Axes>"
      ]
     },
     "metadata": {
      "needs_background": "light"
     },
     "output_type": "display_data"
    }
   ],
   "source": [
    "plt.figure(figsize = [10,6])\n",
    "plt.plot(cinow,ixnow)\n",
    "plt.xlabel(\"Time(t)\")\n",
    "plt.ylabel(\"Current\")\n",
    "plt.show()"
   ]
  },
  {
   "cell_type": "code",
   "execution_count": null,
   "metadata": {},
   "outputs": [],
   "source": []
  },
  {
   "cell_type": "code",
   "execution_count": null,
   "metadata": {},
   "outputs": [],
   "source": []
  },
  {
   "cell_type": "code",
   "execution_count": null,
   "metadata": {},
   "outputs": [],
   "source": []
  },
  {
   "cell_type": "code",
   "execution_count": null,
   "metadata": {},
   "outputs": [],
   "source": []
  },
  {
   "cell_type": "code",
   "execution_count": null,
   "metadata": {},
   "outputs": [],
   "source": []
  },
  {
   "cell_type": "code",
   "execution_count": null,
   "metadata": {},
   "outputs": [],
   "source": []
  },
  {
   "cell_type": "code",
   "execution_count": null,
   "metadata": {},
   "outputs": [],
   "source": []
  }
 ],
 "metadata": {
  "kernelspec": {
   "display_name": "Python 3",
   "language": "python",
   "name": "python3"
  },
  "language_info": {
   "codemirror_mode": {
    "name": "ipython",
    "version": 3
   },
   "file_extension": ".py",
   "mimetype": "text/x-python",
   "name": "python",
   "nbconvert_exporter": "python",
   "pygments_lexer": "ipython3",
   "version": "3.7.4"
  }
 },
 "nbformat": 4,
 "nbformat_minor": 2
}
