{
 "cells": [
  {
   "cell_type": "markdown",
   "metadata": {},
   "source": [
    "## NCX Channel Inactivation"
   ]
  },
  {
   "cell_type": "code",
   "execution_count": 1,
   "metadata": {},
   "outputs": [],
   "source": [
    "import random as random\n",
    "import numpy as np\n",
    "import matplotlib.pyplot as plt\n",
    "import seaborn as sns\n",
    "sns.set()\n",
    "%matplotlib inline\n",
    "import pandas as pd"
   ]
  },
  {
   "cell_type": "markdown",
   "metadata": {},
   "source": [
    "![img](img\\ncx1.png)"
   ]
  },
  {
   "cell_type": "markdown",
   "metadata": {},
   "source": [
    "### Notations\n",
    "\n",
    "- **$E_1$ :** States with binding sites orientewd to the cytoplasmic sides\n",
    "- **$E_2$ :** States with binding sites orientewd to the extracellular sides\n",
    "\n",
    "------------\n",
    "\n",
    "- **$E_{1}3N_{i}$ :** States with binding sites orientewd to the cytoplasmic sides containing 3 Na+ ions\n",
    "- **$E_{0}3N$ :** States with binding sites occluded with 3 Na+ ions \n",
    "- **$E_{2}3N_{0}$ :** States with binding sites orientewd to the extracellular sides with 3 Na+ ions\n",
    "\n",
    "------------\n",
    "\n",
    "- **$E_{1}C_{1}$ :** States with binding sites orientewd to the cytoplasmic sides containing 1 Ca++ ion\n",
    "- **$E_{0}C$ :** States with binding sites occluded with 1 Ca++ ion\n",
    "- **$E_{2}C_{0}$ :** States with binding sites orientewd to the extracellular sides with 1 Ca++ ion\n",
    "\n"
   ]
  },
  {
   "cell_type": "markdown",
   "metadata": {},
   "source": [
    "### Constants"
   ]
  },
  {
   "cell_type": "markdown",
   "metadata": {},
   "source": [
    "- **Name** : $\\gamma$ = 0.02\n",
    "- **Membrane Potential** : $Em =... $\n",
    "- **Name** : $Kem = exp{(0.5\\times(1-\\gamma)\\times Em \\times \\frac{F}{RT}}) = ....$\n",
    "\n",
    "-------------\n",
    "\n",
    "- **Rate Constan** : $k_{1} = 10^{4} \\times Kem$\n",
    "- **Rate Constan** : $k_{2} = F_{3no} \\times \\frac{10^{4}}{Kem}$\n",
    "- **Rate Constan** : $k_{3} = F_{co} \\times 5.17 \\times 10^{4} \\times Kem$\n",
    "- **Rate Constan** : $k_{4} = 5.17 \\times 10^{4}$\n",
    "- **Rate Constan** : $k_{5} = 5.17 \\times 10^{4}$\n",
    "- **Rate Constan** : $k_{6} = F_{ci} \\times 5.17 \\times 10^{4} $\n",
    "- **Rate Constan** : $k_{7} = F_{3ni} \\times 1.84 \\times 10^{4}$\n",
    "- **Rate Constan** : $k_{8} = 1.84 \\times 10^{4} \\times$\n",
    "\n",
    "-------------\n",
    "- **Rate Constan** : $k_{bak} = 0.12 $\n",
    "- **Rate Constan** : $k_{in} = 0.8$\n",
    "\n"
   ]
  },
  {
   "cell_type": "code",
   "execution_count": 20,
   "metadata": {},
   "outputs": [],
   "source": [
    "gama = 0.02\n",
    "Em = -60\n",
    "F = 9.65*1e4\n",
    "R = 8.31\n",
    "T = 37\n",
    "F3no = 1.0\n",
    "Fco = 1.0\n",
    "Fci = 1.0\n",
    "F3ni = 1.0\n",
    "Kem = 1.0#np.exp(0.5*(1-gama)*Em*(F/R*T))\n",
    "k1 = 1e4*Kem\n",
    "k2 = F3no*(1e4/Kem)\n",
    "k3 = Fco*5.17*1e4*Kem\n",
    "k4 = 5.17*1e4\n",
    "k5 = 5.17*1e4\n",
    "k6 = Fci*5.17*1e4\n",
    "k7 = F3ni*1.84*1e4\n",
    "k8 = 1.84*1e4\n",
    "\n",
    "k_bak = 0.12\n",
    "k_in = 0.18\n"
   ]
  },
  {
   "cell_type": "code",
   "execution_count": 18,
   "metadata": {},
   "outputs": [],
   "source": [
    "k = {\"gama\":gama,\"Em\":Em,\"Kem\":Kem,\\\n",
    "    \"k1\":k1,\"k2\":k2,\"k3\":k3,\\\n",
    "    \"k4\":k4, \"k5\":k5,\"k6\":k6,\\\n",
    "    \"k7\":k7,\"k8\":k8,\"k_bak\":k_bak,\"k_in\":k_in}"
   ]
  },
  {
   "cell_type": "code",
   "execution_count": 21,
   "metadata": {},
   "outputs": [
    {
     "data": {
      "text/plain": [
       "{'gama': 0.02,\n",
       " 'Em': -60,\n",
       " 'Kem': 0.0,\n",
       " 'k1': 0.0,\n",
       " 'k2': inf,\n",
       " 'k3': 0.0,\n",
       " 'k4': 51700.0,\n",
       " 'k5': 51700.0,\n",
       " 'k6': 51700.0,\n",
       " 'k7': 18400.0,\n",
       " 'k8': 18400.0,\n",
       " 'k_bak': 0.12,\n",
       " 'k_in': 0.18}"
      ]
     },
     "execution_count": 21,
     "metadata": {},
     "output_type": "execute_result"
    }
   ],
   "source": [
    "k"
   ]
  },
  {
   "cell_type": "markdown",
   "metadata": {},
   "source": [
    "### Differential Equation"
   ]
  },
  {
   "cell_type": "markdown",
   "metadata": {},
   "source": [
    "$\\frac{d({E_{2}3N_{o}})}{dt} = k_{1}({E_{0}3N}) - k_{2}({E_{2}3N_{o}})$\n",
    "\n",
    "$\\frac{d({E_{0}3N})}{dt} = k_{7}({E_{1}3N_{i}}) + k_{2}({E_{2}3N_{o}})-(k_{1}+k_{8})(E_{0}3N)$\n",
    "\n",
    "$\\frac{d({E_{1}3N_{i}})}{dt} = k_{bak}({E_{i}3N_{i}}) + k_{8}({E_{o}3N})-(k_{inact}+k_{7})(E_{1}3N_{i})$\n",
    "\n",
    "$\\frac{d({E_{i}3Ni})}{dt} = k_{inact}(E_{1}3N_{i}) - k_{bak}(E_{i}3N_{i}) $\n",
    "\n",
    "$\\frac{d(E_{2}C_{o})}{dt} = k_{4} (E_{o}C) - k_{3}(E_{2}C_{o})$\n",
    "\n",
    "$\\frac{d({EoC})}{dt} = k_{3}(E_{2}Co) + k_{6}(E_{1}C_{i}) - (k_{4} + k_{5}) (E_{o}C)$\n",
    "\n",
    "$\\frac{d({E_{1}C_{i}})}{dt} = k_{5}(E_{o}C) - k_{6}(E_{1}C_{i})$"
   ]
  },
  {
   "cell_type": "markdown",
   "metadata": {},
   "source": [
    "### Summed Version"
   ]
  },
  {
   "cell_type": "markdown",
   "metadata": {},
   "source": [
    "$\\frac{d(E_{1})}{dt} = k_{bak}(E_{i}3N_{i})+ k_{8}(E_{o}3N)+k_{5}(E_{o}C)- (k_{inact}+k_{7}+ k_{6})(E_{1})$\n",
    "\n",
    "$\\frac{d({E_{0}3N})}{dt} = k_{7}(E_{1}) + k_{2}(E_{2})-(k_{1}+k_{8})(E_{o}3N)$\n",
    "\n",
    "$\\frac{d({EoC})}{dt} = k_{3}(E_{2}) + k_{6}(E_{1}) - (k_{4} + k_{5}) (E_{o}C)$\n",
    "\n",
    "$\\frac{d(E_{2})}{dt} = k_{1}(E_{o}3N) + k_{4}(E_{o}C) - (k_{2}+k_{3})E_{2}$\n",
    "\n",
    "$\\frac{d(E_{i}3N_{i})}{dt} = k_{inact}(E_{1})-k_{bak}E_{i}3N_{i}$\n",
    "\n",
    "$E_{i}3N_{i} = 1 - E_{1} -E_{2} - E_{o}C - E_{o}3N$"
   ]
  },
  {
   "cell_type": "markdown",
   "metadata": {},
   "source": [
    "### Reduced Equation"
   ]
  },
  {
   "cell_type": "markdown",
   "metadata": {},
   "source": [
    "$\\frac{d(E_{1})}{dt} = k_{bak} - k_{bak} E_{2}+(k_{8}-k_{bak})(E_{o}3N)+(k_{5}-k_{bak})(E_{o}C)$\n",
    "\n",
    "$~~~~~~~~~ - (k_{bak}+k_{inact}+k_{7}+ k_{6})(E_{1})$\n",
    "\n",
    "$\\frac{d({E_{0}3N})}{dt} = k_{7}(E_{1}) + k_{2}(E_{2})-(k_{1}+k_{8})(E_{o}3N)$\n",
    "\n",
    "$\\frac{d({EoC})}{dt} = k_{3}(E_{2}) + k_{6}(E_{1}) - (k_{4} + k_{5}) (E_{o}C)$\n",
    "\n",
    "$\\frac{d(E_{2})}{dt} = k_{1}(E_{o}3N) + k_{4}(E_{o}C) - (k_{2}+k_{3})E_{2}$"
   ]
  },
  {
   "cell_type": "markdown",
   "metadata": {},
   "source": [
    "### Diff Equation Method"
   ]
  },
  {
   "cell_type": "code",
   "execution_count": null,
   "metadata": {},
   "outputs": [],
   "source": [
    "def model(y,t,k):\n",
    "    \n",
    "    '''y[0] = E1,\n",
    "       y[1] = Eo3N,\n",
    "       y[2] = EoC,\n",
    "       y[3] = E2,\n",
    "       y[4] = Ei3Ni\n",
    "    '''\n",
    "    \n",
    "    dy1dt = k['k_bak']*y[0] + k['k8']*y[1] +\\\n",
    "            k['k5']*y[2] -k['k_in']*y[0] -\\\n",
    "            k['k7']*y[4] - k['k6']*y[0]\n",
    "    \n",
    "    dy2dt = k['k7']*y[4] + k['k2']*y[3] - (k['k1'] + k['k8'])*y[1]\n",
    "    \n",
    "    dy3dt = k['k3']*y[3] + k['k6']*y[0] -(k['k4'] +k['k5'])*y[2]\n",
    "    \n",
    "    dy4dt = k['k1']*y[1] + k['k4']*y[2]\n",
    "    \n",
    "    dydt = [dy1dt,dy2dt,dy3dt]\n",
    "    return dydt"
   ]
  },
  {
   "cell_type": "code",
   "execution_count": null,
   "metadata": {},
   "outputs": [],
   "source": []
  },
  {
   "cell_type": "code",
   "execution_count": null,
   "metadata": {},
   "outputs": [],
   "source": []
  },
  {
   "cell_type": "code",
   "execution_count": null,
   "metadata": {},
   "outputs": [],
   "source": []
  },
  {
   "cell_type": "code",
   "execution_count": null,
   "metadata": {},
   "outputs": [],
   "source": []
  },
  {
   "cell_type": "code",
   "execution_count": null,
   "metadata": {},
   "outputs": [],
   "source": []
  },
  {
   "cell_type": "code",
   "execution_count": null,
   "metadata": {},
   "outputs": [],
   "source": []
  },
  {
   "cell_type": "code",
   "execution_count": null,
   "metadata": {},
   "outputs": [],
   "source": []
  }
 ],
 "metadata": {
  "kernelspec": {
   "display_name": "Python 3",
   "language": "python",
   "name": "python3"
  },
  "language_info": {
   "codemirror_mode": {
    "name": "ipython",
    "version": 3
   },
   "file_extension": ".py",
   "mimetype": "text/x-python",
   "name": "python",
   "nbconvert_exporter": "python",
   "pygments_lexer": "ipython3",
   "version": "3.7.1"
  }
 },
 "nbformat": 4,
 "nbformat_minor": 2
}
