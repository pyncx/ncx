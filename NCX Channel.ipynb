{
 "cells": [
  {
   "cell_type": "markdown",
   "metadata": {},
   "source": [
    "## NCX channel"
   ]
  },
  {
   "cell_type": "code",
   "execution_count": 1,
   "metadata": {},
   "outputs": [],
   "source": [
    "import random as random\n",
    "import numpy as np\n",
    "import matplotlib.pyplot as plt\n",
    "import seaborn as sns\n",
    "sns.set()\n",
    "%matplotlib inline\n",
    "import pandas as pd"
   ]
  },
  {
   "cell_type": "markdown",
   "metadata": {},
   "source": [
    "### Notations\n",
    "\n",
    "- **$E_1$ :** States with binding sites orientewd to the cytoplasmic sides\n",
    "- **$E_2$ :** States with binding sites orientewd to the extracellular sides\n",
    "\n",
    "------------\n",
    "\n",
    "- **$E_{1}3N_{i}$ :** States with binding sites orientewd to the cytoplasmic sides containing 3 Na+ ions\n",
    "- **$E_{0}3N$ :** States with binding sites occluded with 3 Na+ ions \n",
    "- **$E_{2}3N_{0}$ :** States with binding sites orientewd to the extracellular sides with 3 Na+ ions\n",
    "\n",
    "------------\n",
    "\n",
    "- **$E_{1}C_{1}$ :** States with binding sites orientewd to the cytoplasmic sides containing 1 Ca++ ion\n",
    "- **$E_{0}C$ :** States with binding sites occluded with 1 Ca++ ion\n",
    "- **$E_{2}C_{0}$ :** States with binding sites orientewd to the extracellular sides with 1 Ca++ ion\n",
    "\n"
   ]
  },
  {
   "cell_type": "markdown",
   "metadata": {},
   "source": [
    "### Constants"
   ]
  },
  {
   "cell_type": "markdown",
   "metadata": {},
   "source": [
    "- **Name** : $\\gamma$ = 0.02\n",
    "- **Membrane Potential** : $Em =... $\n",
    "- **Name** : $Kem = exp{(0.5\\times(1-\\gamma)\\times Em \\times \\frac{F}{RT}}) = ....$\n",
    "\n",
    "-------------\n",
    "\n",
    "- **Rate Constan** : $k_{1} = 10^{4} \\times Kem$\n",
    "- **Rate Constan** : $k_{2} = F_{3no} \\times \\frac{10^{4}}{Kem}$\n",
    "- **Rate Constan** : $k_{3} = F_{co} \\times 5.17 \\times 10^{4} \\times Kem$\n",
    "- **Rate Constan** : $k_{4} = 5.17 \\times 10^{4}$\n",
    "- **Rate Constan** : $k_{5} = 5.17 \\times 10^{4}$\n",
    "- **Rate Constan** : $k_{6} = F_{ci} \\times 5.17 \\times 10^{4} $\n",
    "- **Rate Constan** : $k_{7} = F_{3ni} \\times 1.84 \\times 10^{4}$\n",
    "- **Rate Constan** : $k_{8} = 1.84 \\times 10^{4} \\times$\n",
    "\n",
    "-------------\n",
    "- **Rate Constan** : $k_{bak} = 0.12 $\n",
    "- **Rate Constan** : $k_{1} = 0.8$\n",
    "\n"
   ]
  },
  {
   "cell_type": "code",
   "execution_count": null,
   "metadata": {},
   "outputs": [],
   "source": []
  },
  {
   "cell_type": "code",
   "execution_count": null,
   "metadata": {},
   "outputs": [],
   "source": []
  },
  {
   "cell_type": "code",
   "execution_count": null,
   "metadata": {},
   "outputs": [],
   "source": []
  },
  {
   "cell_type": "code",
   "execution_count": null,
   "metadata": {},
   "outputs": [],
   "source": []
  },
  {
   "cell_type": "code",
   "execution_count": null,
   "metadata": {},
   "outputs": [],
   "source": []
  },
  {
   "cell_type": "code",
   "execution_count": null,
   "metadata": {},
   "outputs": [],
   "source": []
  },
  {
   "cell_type": "code",
   "execution_count": null,
   "metadata": {},
   "outputs": [],
   "source": []
  },
  {
   "cell_type": "code",
   "execution_count": 30,
   "metadata": {},
   "outputs": [],
   "source": [
    "k_oi=0.5\n",
    "k_io=0.3\n",
    "k_co=0.6\n",
    "k_oc=0.9\n",
    "k_ic=0.72\n",
    "k_ci=0.8\n",
    "dt=0.01"
   ]
  },
  {
   "cell_type": "code",
   "execution_count": 54,
   "metadata": {},
   "outputs": [],
   "source": [
    "data = [{'C': 1.000, 'I': 0.000, 'O': 0.000}]\n",
    "N = 100\n",
    "T = 100\n",
    "sn = \"O\"\n",
    "for n in range(N):\n",
    "    ss = []\n",
    "    for t in range(T):\n",
    "        r=random.uniform(0,1)\n",
    "        \n",
    "        if sn == \"O\":\n",
    "            if 0 < dt*r < k_oc*dt:\n",
    "                s= \"C\"\n",
    "            elif (k_oc*dt) < dt*r < (k_oc*dt+k_oi*dt):\n",
    "                s= \"I\"\n",
    "            elif (k_oc*dt+k_oi*dt) < dt*r < 1:\n",
    "                s= \"O\"\n",
    "                \n",
    "        if sn == \"I\":\n",
    "            if 0 < dt*r < k_ic*dt:\n",
    "                s= \"C\"\n",
    "            elif (k_ic*dt) < dt*r < (k_ic*dt+k_io*dt):\n",
    "                s= \"O\"\n",
    "            elif (k_ic*dt+k_io*dt) < dt*r < 1:\n",
    "                s= \"I\"\n",
    "                \n",
    "        if sn == \"C\":\n",
    "            if 0 < dt*r < k_co*dt:\n",
    "                s= \"O\"\n",
    "            elif (k_co*dt < dt*r)< (k_co*dt+k_ci*dt):\n",
    "                s= \"I\"\n",
    "            elif (k_co*dt + k_ci*dt)< dt*r<1:\n",
    "                s= \"C\"\n",
    "                \n",
    "                \n",
    "                \n",
    "        ss.append(s)\n",
    "        sn = s\n",
    "    data.append({\"C\": ss.count(\"C\")/float(T),\\\n",
    "                 \"I\":ss.count(\"I\")/float(T),\\\n",
    "                 \"O\":ss.count(\"O\")/float(T)})\n",
    "        #print(s)    "
   ]
  },
  {
   "cell_type": "code",
   "execution_count": 55,
   "metadata": {},
   "outputs": [
    {
     "data": {
      "text/plain": [
       "[{'C': 1.0, 'I': 0.0, 'O': 0.0},\n",
       " {'C': 0.66, 'I': 0.03, 'O': 0.31},\n",
       " {'C': 0.56, 'I': 0.07, 'O': 0.37},\n",
       " {'C': 0.63, 'I': 0.04, 'O': 0.33},\n",
       " {'C': 0.6, 'I': 0.06, 'O': 0.34}]"
      ]
     },
     "execution_count": 55,
     "metadata": {},
     "output_type": "execute_result"
    }
   ],
   "source": [
    "data[0:5]"
   ]
  },
  {
   "cell_type": "code",
   "execution_count": 56,
   "metadata": {},
   "outputs": [
    {
     "data": {
      "text/html": [
       "<div>\n",
       "<style scoped>\n",
       "    .dataframe tbody tr th:only-of-type {\n",
       "        vertical-align: middle;\n",
       "    }\n",
       "\n",
       "    .dataframe tbody tr th {\n",
       "        vertical-align: top;\n",
       "    }\n",
       "\n",
       "    .dataframe thead th {\n",
       "        text-align: right;\n",
       "    }\n",
       "</style>\n",
       "<table border=\"1\" class=\"dataframe\">\n",
       "  <thead>\n",
       "    <tr style=\"text-align: right;\">\n",
       "      <th></th>\n",
       "      <th>C</th>\n",
       "      <th>I</th>\n",
       "      <th>O</th>\n",
       "    </tr>\n",
       "  </thead>\n",
       "  <tbody>\n",
       "    <tr>\n",
       "      <th>0</th>\n",
       "      <td>1.00</td>\n",
       "      <td>0.00</td>\n",
       "      <td>0.00</td>\n",
       "    </tr>\n",
       "    <tr>\n",
       "      <th>1</th>\n",
       "      <td>0.66</td>\n",
       "      <td>0.03</td>\n",
       "      <td>0.31</td>\n",
       "    </tr>\n",
       "    <tr>\n",
       "      <th>2</th>\n",
       "      <td>0.56</td>\n",
       "      <td>0.07</td>\n",
       "      <td>0.37</td>\n",
       "    </tr>\n",
       "    <tr>\n",
       "      <th>3</th>\n",
       "      <td>0.63</td>\n",
       "      <td>0.04</td>\n",
       "      <td>0.33</td>\n",
       "    </tr>\n",
       "    <tr>\n",
       "      <th>4</th>\n",
       "      <td>0.60</td>\n",
       "      <td>0.06</td>\n",
       "      <td>0.34</td>\n",
       "    </tr>\n",
       "  </tbody>\n",
       "</table>\n",
       "</div>"
      ],
      "text/plain": [
       "      C     I     O\n",
       "0  1.00  0.00  0.00\n",
       "1  0.66  0.03  0.31\n",
       "2  0.56  0.07  0.37\n",
       "3  0.63  0.04  0.33\n",
       "4  0.60  0.06  0.34"
      ]
     },
     "execution_count": 56,
     "metadata": {},
     "output_type": "execute_result"
    }
   ],
   "source": [
    "DF = pd.DataFrame(data)\n",
    "DF.head()"
   ]
  },
  {
   "cell_type": "code",
   "execution_count": 57,
   "metadata": {},
   "outputs": [
    {
     "data": {
      "text/plain": [
       "<matplotlib.axes._subplots.AxesSubplot at 0x173fd46c2b0>"
      ]
     },
     "execution_count": 57,
     "metadata": {},
     "output_type": "execute_result"
    },
    {
     "data": {
      "image/png": "[encoded data removed]",
      "text/plain": [
       "<Figure size 432x288 with 1 Axes>"
      ]
     },
     "metadata": {},
     "output_type": "display_data"
    }
   ],
   "source": [
    "DF.plot()"
   ]
  },
  {
   "cell_type": "code",
   "execution_count": null,
   "metadata": {},
   "outputs": [],
   "source": []
  },
  {
   "cell_type": "code",
   "execution_count": null,
   "metadata": {},
   "outputs": [],
   "source": []
  },
  {
   "cell_type": "code",
   "execution_count": null,
   "metadata": {},
   "outputs": [],
   "source": []
  },
  {
   "cell_type": "code",
   "execution_count": null,
   "metadata": {},
   "outputs": [],
   "source": []
  },
  {
   "cell_type": "code",
   "execution_count": null,
   "metadata": {},
   "outputs": [],
   "source": []
  },
  {
   "cell_type": "code",
   "execution_count": null,
   "metadata": {},
   "outputs": [],
   "source": []
  },
  {
   "cell_type": "code",
   "execution_count": null,
   "metadata": {},
   "outputs": [],
   "source": []
  }
 ],
 "metadata": {
  "kernelspec": {
   "display_name": "Python 3",
   "language": "python",
   "name": "python3"
  },
  "language_info": {
   "codemirror_mode": {
    "name": "ipython",
    "version": 3
   },
   "file_extension": ".py",
   "mimetype": "text/x-python",
   "name": "python",
   "nbconvert_exporter": "python",
   "pygments_lexer": "ipython3",
   "version": "3.7.1"
  }
 },
 "nbformat": 4,
 "nbformat_minor": 2
}
